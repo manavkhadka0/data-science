{
  "nbformat": 4,
  "nbformat_minor": 0,
  "metadata": {
    "kernelspec": {
      "display_name": "Python 3",
      "language": "python",
      "name": "python3"
    },
    "language_info": {
      "codemirror_mode": {
        "name": "ipython",
        "version": 3
      },
      "file_extension": ".py",
      "mimetype": "text/x-python",
      "name": "python",
      "nbconvert_exporter": "python",
      "pygments_lexer": "ipython3",
      "version": "3.6.4"
    },
    "colab": {
      "name": "NumPy_Py.ipynb",
      "provenance": []
    }
  },
  "cells": [
    {
      "cell_type": "markdown",
      "metadata": {
        "id": "T3sAUn4xtxJy"
      },
      "source": [
        "# NumPy"
      ]
    },
    {
      "cell_type": "markdown",
      "metadata": {
        "id": "W74qCBw4txJ2"
      },
      "source": [
        "#### Its Majorly used in AI ML DS"
      ]
    },
    {
      "cell_type": "markdown",
      "metadata": {
        "id": "0k62JHeqtxJ2"
      },
      "source": [
        "### NumPy Arrays\n",
        "#### Python Objects:\n",
        "1) It Contains High level objects: Integer,floationg point\n",
        "\n",
        "2) Containers: Lists, dictionaries internally build so that We can perform mathamatical operations extensively."
      ]
    },
    {
      "cell_type": "markdown",
      "metadata": {
        "id": "57FdaeUmtxJ3"
      },
      "source": [
        "#### NumPy Provides:\n",
        "1) MultiDimension arrays support <br>\n",
        "2) Closer to hardware(efficiency) <br>\n",
        "3) Designed for Sci-fi computations <br>\n",
        "4) Array oriented computing"
      ]
    },
    {
      "cell_type": "code",
      "metadata": {
        "id": "WF96VmBMtxJ3",
        "colab": {
          "base_uri": "https://localhost:8080/"
        },
        "outputId": "06369eea-1285-4eb2-932f-d4c0c409d086"
      },
      "source": [
        "import numpy as np\n",
        "\n",
        "#this creates numpy array from list.\n",
        "a= np.array([1,2,3]); \n",
        "\n",
        "#other way of creating np array\n",
        "b=np.arange(10);\n",
        "\n",
        "print(a);\n",
        "\n",
        "print(b);"
      ],
      "execution_count": null,
      "outputs": [
        {
          "output_type": "stream",
          "text": [
            "[1 2 3]\n",
            "[0 1 2 3 4 5 6 7 8 9]\n"
          ],
          "name": "stdout"
        }
      ]
    },
    {
      "cell_type": "markdown",
      "metadata": {
        "id": "E2-QpvvOtxJ5"
      },
      "source": [
        "#### Why is it useful: Memory Efficient container that provides fast numerical operations"
      ]
    },
    {
      "cell_type": "code",
      "metadata": {
        "id": "gKC-tqQDtxJ5",
        "colab": {
          "base_uri": "https://localhost:8080/"
        },
        "outputId": "ef1344bd-fc15-4f8b-a62e-1e12555d2d85"
      },
      "source": [
        "#py lists\n",
        "\n",
        "li = list(range(1000));\n",
        "\n",
        "# %timeit here runs the below statement\n",
        "# 1000 times and calculates the time \n",
        "# in terms of mean and std deviation in time\n",
        "# and gives the time taken to run per loop\n",
        "\n",
        "%timeit [i**2 for i in li]"
      ],
      "execution_count": null,
      "outputs": [
        {
          "output_type": "stream",
          "text": [
            "The slowest run took 6.21 times longer than the fastest. This could mean that an intermediate result is being cached.\n",
            "1000 loops, best of 5: 250 µs per loop\n"
          ],
          "name": "stdout"
        }
      ]
    },
    {
      "cell_type": "code",
      "metadata": {
        "id": "Qd0JUgtTtxJ6",
        "colab": {
          "base_uri": "https://localhost:8080/"
        },
        "outputId": "1999bb32-2e3f-4b39-d77d-241013006b6d"
      },
      "source": [
        "li = np.arange(1000);\n",
        "%timeit np.array(i**2 for i in li)"
      ],
      "execution_count": null,
      "outputs": [
        {
          "output_type": "stream",
          "text": [
            "The slowest run took 16.87 times longer than the fastest. This could mean that an intermediate result is being cached.\n",
            "1000000 loops, best of 5: 2.08 µs per loop\n"
          ],
          "name": "stdout"
        }
      ]
    },
    {
      "cell_type": "markdown",
      "metadata": {
        "id": "uheAoSkGtxJ6"
      },
      "source": [
        "Observation: \n",
        "np arrays are almost 200 times faster\n",
        "that python lists."
      ]
    },
    {
      "cell_type": "code",
      "metadata": {
        "id": "3bAWZIFStxJ6",
        "colab": {
          "base_uri": "https://localhost:8080/"
        },
        "outputId": "40867d28-7d12-4eb7-d046-eb828a7ce05c"
      },
      "source": [
        "# 1-d Array\n",
        "\n",
        "a = np.array([0,1,2,3,4]);\n",
        "\n",
        "print(a);\n",
        "\n",
        "print(type(a));"
      ],
      "execution_count": null,
      "outputs": [
        {
          "output_type": "stream",
          "text": [
            "[0 1 2 3 4]\n",
            "<class 'numpy.ndarray'>\n"
          ],
          "name": "stdout"
        }
      ]
    },
    {
      "cell_type": "code",
      "metadata": {
        "id": "qH2oL9b2txJ7",
        "colab": {
          "base_uri": "https://localhost:8080/"
        },
        "outputId": "d449be4b-6783-4edd-8448-61e43d5221ac"
      },
      "source": [
        "# prints dimension\n",
        "\n",
        "print(a.ndim);"
      ],
      "execution_count": null,
      "outputs": [
        {
          "output_type": "stream",
          "text": [
            "1\n"
          ],
          "name": "stdout"
        }
      ]
    },
    {
      "cell_type": "code",
      "metadata": {
        "id": "9TDcqZ_AtxJ7",
        "colab": {
          "base_uri": "https://localhost:8080/"
        },
        "outputId": "d2efd901-f9da-41fc-e58c-d56ac3013cde"
      },
      "source": [
        "# Shape\n",
        "\n",
        "print(a.shape);"
      ],
      "execution_count": null,
      "outputs": [
        {
          "output_type": "stream",
          "text": [
            "(5,)\n"
          ],
          "name": "stdout"
        }
      ]
    },
    {
      "cell_type": "code",
      "metadata": {
        "id": "4lsQrmd7txJ8",
        "colab": {
          "base_uri": "https://localhost:8080/"
        },
        "outputId": "d3ab246b-9643-455b-d365-596de371b4dc"
      },
      "source": [
        "print(len(a));"
      ],
      "execution_count": null,
      "outputs": [
        {
          "output_type": "stream",
          "text": [
            "5\n"
          ],
          "name": "stdout"
        }
      ]
    },
    {
      "cell_type": "code",
      "metadata": {
        "id": "oJuShGUotxJ8",
        "colab": {
          "base_uri": "https://localhost:8080/"
        },
        "outputId": "4d7c3767-8802-4666-a0f3-529c44a31228"
      },
      "source": [
        "# 2-D Array\n",
        "\n",
        "b = np.array([[1,2,3],[4,5,6]]);\n",
        "\n",
        "print(b);\n",
        "\n",
        "print(\"shape is \",b.shape);\n",
        "\n",
        "print(\"Length here is no.of rows\",len(b));\n",
        "\n",
        "print(\"Dimension \",b.ndim);"
      ],
      "execution_count": null,
      "outputs": [
        {
          "output_type": "stream",
          "text": [
            "[[1 2 3]\n",
            " [4 5 6]]\n",
            "shape is  (2, 3)\n",
            "Length here is no.of rows 2\n",
            "Dimension  2\n"
          ],
          "name": "stdout"
        }
      ]
    },
    {
      "cell_type": "code",
      "metadata": {
        "id": "g2iJCQVntxJ9",
        "colab": {
          "base_uri": "https://localhost:8080/"
        },
        "outputId": "fd59eaa5-5087-4dae-eb66-99c2ce1998f7"
      },
      "source": [
        "# 3-D Array or n-D Array or Tensor\n",
        "\n",
        "c = np.array([[[1,2],[3,4]],[[5,6],[7,8]]])\n",
        "\n",
        "print(c);\n",
        "\n",
        "print(\"shape is \",c.shape);\n",
        "\n",
        "print(\"Length here is no.of rows\",len(c));\n",
        "\n",
        "print(\"Dimension \",c.ndim);\n"
      ],
      "execution_count": null,
      "outputs": [
        {
          "output_type": "stream",
          "text": [
            "[[[1 2]\n",
            "  [3 4]]\n",
            "\n",
            " [[5 6]\n",
            "  [7 8]]]\n",
            "shape is  (2, 2, 2)\n",
            "Length here is no.of rows 2\n",
            "Dimension  3\n"
          ],
          "name": "stdout"
        }
      ]
    },
    {
      "cell_type": "markdown",
      "metadata": {
        "id": "hl7M0OyHtxJ9"
      },
      "source": [
        "# Creating np array using predefined Functions"
      ]
    },
    {
      "cell_type": "code",
      "metadata": {
        "id": "cqyeULc7txJ9",
        "colab": {
          "base_uri": "https://localhost:8080/"
        },
        "outputId": "76ad70b8-5062-4f98-8ec2-aabe77e76f2d"
      },
      "source": [
        "#arange()\n",
        "\n",
        "a = np.arange(10);\n",
        "\n",
        "#start, end, step size\n",
        "b = np.arange(1,8,2);\n",
        "\n",
        "print(a,\"\\n\",b);"
      ],
      "execution_count": null,
      "outputs": [
        {
          "output_type": "stream",
          "text": [
            "[0 1 2 3 4 5 6 7 8 9] \n",
            " [1 3 5 7]\n"
          ],
          "name": "stdout"
        }
      ]
    },
    {
      "cell_type": "code",
      "metadata": {
        "id": "W9JDqhQRtxJ-",
        "colab": {
          "base_uri": "https://localhost:8080/"
        },
        "outputId": "d2bb4a7d-ec4b-48e1-cff3-6b3f99c752ef"
      },
      "source": [
        "# Dividing line into pieces\n",
        "\n",
        "#start, end, no.of points on line\n",
        "c = np.linspace(0,1,6)\n",
        "\n",
        "print(c);"
      ],
      "execution_count": null,
      "outputs": [
        {
          "output_type": "stream",
          "text": [
            "[0.  0.2 0.4 0.6 0.8 1. ]\n"
          ],
          "name": "stdout"
        }
      ]
    },
    {
      "cell_type": "code",
      "metadata": {
        "id": "Z7OeqWS_txJ-",
        "colab": {
          "base_uri": "https://localhost:8080/"
        },
        "outputId": "5b9f5626-368d-4713-9772-aa74282d6fbe"
      },
      "source": [
        "# one matrix\n",
        "\n",
        "#3x3 matrix\n",
        "d = np.ones((3,3))\n",
        "\n",
        "print(d);"
      ],
      "execution_count": null,
      "outputs": [
        {
          "output_type": "stream",
          "text": [
            "[[1. 1. 1.]\n",
            " [1. 1. 1.]\n",
            " [1. 1. 1.]]\n"
          ],
          "name": "stdout"
        }
      ]
    },
    {
      "cell_type": "code",
      "metadata": {
        "id": "zrWCT_x2txJ_",
        "colab": {
          "base_uri": "https://localhost:8080/"
        },
        "outputId": "1a0feed7-39b3-4a06-9ee7-7e5d3ed85664"
      },
      "source": [
        "# Zero Matrix\n",
        "\n",
        "e = np.zeros((4,4));\n",
        "\n",
        "print(e);"
      ],
      "execution_count": null,
      "outputs": [
        {
          "output_type": "stream",
          "text": [
            "[[0. 0. 0. 0.]\n",
            " [0. 0. 0. 0.]\n",
            " [0. 0. 0. 0.]\n",
            " [0. 0. 0. 0.]]\n"
          ],
          "name": "stdout"
        }
      ]
    },
    {
      "cell_type": "code",
      "metadata": {
        "id": "nPuiWDs1txJ_",
        "colab": {
          "base_uri": "https://localhost:8080/"
        },
        "outputId": "4334d9d2-927f-4973-d7e1-c58c6928ce8a"
      },
      "source": [
        "# Identity matrix\n",
        "\n",
        "f = np.eye(3);\n",
        "\n",
        "print(f);"
      ],
      "execution_count": null,
      "outputs": [
        {
          "output_type": "stream",
          "text": [
            "[[1. 0. 0.]\n",
            " [0. 1. 0.]\n",
            " [0. 0. 1.]]\n"
          ],
          "name": "stdout"
        }
      ]
    },
    {
      "cell_type": "code",
      "metadata": {
        "id": "i1l0LfpItxJ_",
        "colab": {
          "base_uri": "https://localhost:8080/"
        },
        "outputId": "95a0175b-b887-4258-b920-4b6bb1dad2ec"
      },
      "source": [
        "f = np.eye(2,3);\n",
        "\n",
        "print(f);"
      ],
      "execution_count": null,
      "outputs": [
        {
          "output_type": "stream",
          "text": [
            "[[1. 0. 0.]\n",
            " [0. 1. 0.]]\n"
          ],
          "name": "stdout"
        }
      ]
    },
    {
      "cell_type": "code",
      "metadata": {
        "id": "qIauq_qntxKA",
        "colab": {
          "base_uri": "https://localhost:8080/"
        },
        "outputId": "efd02ffb-2964-466f-d413-b822bc9be328"
      },
      "source": [
        "g = np.diag([1,2,3,4]);\n",
        "\n",
        "print(g);"
      ],
      "execution_count": null,
      "outputs": [
        {
          "output_type": "stream",
          "text": [
            "[[1 0 0 0]\n",
            " [0 2 0 0]\n",
            " [0 0 3 0]\n",
            " [0 0 0 4]]\n"
          ],
          "name": "stdout"
        }
      ]
    },
    {
      "cell_type": "code",
      "metadata": {
        "id": "9fk5j7aptxKA",
        "colab": {
          "base_uri": "https://localhost:8080/"
        },
        "outputId": "c1639432-d97b-409b-fc83-e04d007e80c4"
      },
      "source": [
        "print(np.diag(g));"
      ],
      "execution_count": null,
      "outputs": [
        {
          "output_type": "stream",
          "text": [
            "[1 2 3 4]\n"
          ],
          "name": "stdout"
        }
      ]
    },
    {
      "cell_type": "code",
      "metadata": {
        "id": "faK8umkEtxKA",
        "colab": {
          "base_uri": "https://localhost:8080/"
        },
        "outputId": "96b6677b-8627-4f0b-ae08-14dc1fa496e4"
      },
      "source": [
        "# creating array of rand values\n",
        "\n",
        "#uniform random number\n",
        "h = np.random.rand(4);\n",
        "\n",
        "print(h);"
      ],
      "execution_count": null,
      "outputs": [
        {
          "output_type": "stream",
          "text": [
            "[0.87932003 0.70383285 0.35194259 0.09340424]\n"
          ],
          "name": "stdout"
        }
      ]
    },
    {
      "cell_type": "markdown",
      "metadata": {
        "id": "4MZkI0GutxKB"
      },
      "source": [
        "### Basic Datatypes"
      ]
    },
    {
      "cell_type": "code",
      "metadata": {
        "id": "xchdtisttxKB",
        "colab": {
          "base_uri": "https://localhost:8080/"
        },
        "outputId": "b7fe9c9b-6b5c-4b16-bba8-8c688a10761d"
      },
      "source": [
        "a = np.arange(10)\n",
        "\n",
        "print(a.dtype);"
      ],
      "execution_count": null,
      "outputs": [
        {
          "output_type": "stream",
          "text": [
            "int64\n"
          ],
          "name": "stdout"
        }
      ]
    },
    {
      "cell_type": "code",
      "metadata": {
        "id": "rd4D-uiotxKC",
        "colab": {
          "base_uri": "https://localhost:8080/"
        },
        "outputId": "b707ab3a-3140-462c-99cb-fbe81724335e"
      },
      "source": [
        "a = np.arange(10, dtype='float')\n",
        "\n",
        "print(a.dtype);\n",
        "\n",
        "print(a);"
      ],
      "execution_count": null,
      "outputs": [
        {
          "output_type": "stream",
          "text": [
            "float64\n",
            "[0. 1. 2. 3. 4. 5. 6. 7. 8. 9.]\n"
          ],
          "name": "stdout"
        }
      ]
    },
    {
      "cell_type": "code",
      "metadata": {
        "id": "eMOEyLHJtxKC",
        "colab": {
          "base_uri": "https://localhost:8080/"
        },
        "outputId": "fd599986-8e71-4692-c244-5cee2110906e"
      },
      "source": [
        "d = np.array([1+2j,2+4j])\n",
        "\n",
        "print(d.dtype);"
      ],
      "execution_count": null,
      "outputs": [
        {
          "output_type": "stream",
          "text": [
            "complex128\n"
          ],
          "name": "stdout"
        }
      ]
    },
    {
      "cell_type": "markdown",
      "metadata": {
        "id": "k6YviphNtxKC"
      },
      "source": [
        "# Index and Slicing"
      ]
    },
    {
      "cell_type": "code",
      "metadata": {
        "id": "khEr4ue2txKD",
        "colab": {
          "base_uri": "https://localhost:8080/"
        },
        "outputId": "129cb22a-a249-4d60-fd9a-2d15d63c6085"
      },
      "source": [
        "a = np.arange(6);\n",
        "\n",
        "print(a[0]);"
      ],
      "execution_count": null,
      "outputs": [
        {
          "output_type": "stream",
          "text": [
            "0\n"
          ],
          "name": "stdout"
        }
      ]
    },
    {
      "cell_type": "code",
      "metadata": {
        "id": "F7-TlA_itxKD",
        "colab": {
          "base_uri": "https://localhost:8080/"
        },
        "outputId": "17bfa1bc-6944-4b89-df44-6b2e3782c88f"
      },
      "source": [
        "a = np.diag([1,2,3])\n",
        "\n",
        "print(a[1][1]);"
      ],
      "execution_count": null,
      "outputs": [
        {
          "output_type": "stream",
          "text": [
            "2\n"
          ],
          "name": "stdout"
        }
      ]
    },
    {
      "cell_type": "code",
      "metadata": {
        "id": "W9XKy-lutxKD",
        "colab": {
          "base_uri": "https://localhost:8080/"
        },
        "outputId": "98cc1481-0ab0-4217-a8dc-78915f618588"
      },
      "source": [
        "a[1,1]=10;\n",
        "\n",
        "print(a);"
      ],
      "execution_count": null,
      "outputs": [
        {
          "output_type": "stream",
          "text": [
            "[[ 1  0  0]\n",
            " [ 0 10  0]\n",
            " [ 0  0  3]]\n"
          ],
          "name": "stdout"
        }
      ]
    },
    {
      "cell_type": "markdown",
      "metadata": {
        "id": "eIhvaLXNtxKE"
      },
      "source": [
        "#### Slicing"
      ]
    },
    {
      "cell_type": "code",
      "metadata": {
        "id": "2uqsfRPdtxKE",
        "colab": {
          "base_uri": "https://localhost:8080/"
        },
        "outputId": "86857189-cd45-4cf2-99d2-76069803261f"
      },
      "source": [
        "a = np.arange(10);\n",
        "\n",
        "print(a[1:6:2]);"
      ],
      "execution_count": null,
      "outputs": [
        {
          "output_type": "stream",
          "text": [
            "[1 3 5]\n"
          ],
          "name": "stdout"
        }
      ]
    },
    {
      "cell_type": "code",
      "metadata": {
        "id": "tr1d5PaZtxKE",
        "colab": {
          "base_uri": "https://localhost:8080/"
        },
        "outputId": "2de007f3-0fbe-4d7f-fb2c-260714bd4519"
      },
      "source": [
        "print(a[2:])\n"
      ],
      "execution_count": null,
      "outputs": [
        {
          "output_type": "stream",
          "text": [
            "[2 3 4 5 6 7 8 9]\n"
          ],
          "name": "stdout"
        }
      ]
    },
    {
      "cell_type": "code",
      "metadata": {
        "id": "JSSEXXcJtxKE",
        "colab": {
          "base_uri": "https://localhost:8080/"
        },
        "outputId": "d485995e-0ec4-453b-b239-4d71f0e7f534"
      },
      "source": [
        "print(a[0:2]);"
      ],
      "execution_count": null,
      "outputs": [
        {
          "output_type": "stream",
          "text": [
            "[0 1]\n"
          ],
          "name": "stdout"
        }
      ]
    },
    {
      "cell_type": "code",
      "metadata": {
        "id": "CR8rw4QKtxKF",
        "colab": {
          "base_uri": "https://localhost:8080/"
        },
        "outputId": "a6097954-8f26-4073-e107-8c4c22a6e269"
      },
      "source": [
        "print(a[:])"
      ],
      "execution_count": null,
      "outputs": [
        {
          "output_type": "stream",
          "text": [
            "[0 1 2 3 4 5 6 7 8 9]\n"
          ],
          "name": "stdout"
        }
      ]
    },
    {
      "cell_type": "code",
      "metadata": {
        "id": "TLM2LlyVtxKF",
        "colab": {
          "base_uri": "https://localhost:8080/"
        },
        "outputId": "38226bdb-3bd7-4aaa-8f16-0603b7d4fa24"
      },
      "source": [
        "print(a[:3]);"
      ],
      "execution_count": null,
      "outputs": [
        {
          "output_type": "stream",
          "text": [
            "[0 1 2]\n"
          ],
          "name": "stdout"
        }
      ]
    },
    {
      "cell_type": "code",
      "metadata": {
        "id": "KDUXIZ0xtxKF",
        "colab": {
          "base_uri": "https://localhost:8080/"
        },
        "outputId": "01ae438a-d790-4b70-d6fd-9f2769c6aa99"
      },
      "source": [
        "print(a[::-1]); #reverse order"
      ],
      "execution_count": null,
      "outputs": [
        {
          "output_type": "stream",
          "text": [
            "[9 8 7 6 5 4 3 2 1 0]\n"
          ],
          "name": "stdout"
        }
      ]
    },
    {
      "cell_type": "markdown",
      "metadata": {
        "id": "__zRywR4txKG"
      },
      "source": [
        "# Memory Sharing"
      ]
    },
    {
      "cell_type": "code",
      "metadata": {
        "id": "UaojZZChtxKG",
        "colab": {
          "base_uri": "https://localhost:8080/"
        },
        "outputId": "a090ecf8-750f-4a9d-eab9-cfd6b02e7ea5"
      },
      "source": [
        "a = np.arange(10);\n",
        "\n",
        "print(a);"
      ],
      "execution_count": null,
      "outputs": [
        {
          "output_type": "stream",
          "text": [
            "[0 1 2 3 4 5 6 7 8 9]\n"
          ],
          "name": "stdout"
        }
      ]
    },
    {
      "cell_type": "code",
      "metadata": {
        "id": "DwAPQHxCtxKG",
        "colab": {
          "base_uri": "https://localhost:8080/"
        },
        "outputId": "779b4941-663e-4960-8495-a7889f2b1ec4"
      },
      "source": [
        "b = a[::2];\n",
        "\n",
        "print(b);"
      ],
      "execution_count": null,
      "outputs": [
        {
          "output_type": "stream",
          "text": [
            "[0 2 4 6 8]\n"
          ],
          "name": "stdout"
        }
      ]
    },
    {
      "cell_type": "code",
      "metadata": {
        "id": "sCcRnwz_txKH",
        "colab": {
          "base_uri": "https://localhost:8080/"
        },
        "outputId": "c68d090e-3568-491f-ab11-6d9d10b195fb"
      },
      "source": [
        "print(np.shares_memory(a,b));"
      ],
      "execution_count": null,
      "outputs": [
        {
          "output_type": "stream",
          "text": [
            "True\n"
          ],
          "name": "stdout"
        }
      ]
    },
    {
      "cell_type": "markdown",
      "metadata": {
        "id": "qXrgbdYItxKH"
      },
      "source": [
        "Observation: Both a and b share same memory i.e b is subset of a it access the elements form a's memory location, internally a view is created from that b will access the values of a."
      ]
    },
    {
      "cell_type": "code",
      "metadata": {
        "id": "4lJrNV0ktxKH",
        "colab": {
          "base_uri": "https://localhost:8080/"
        },
        "outputId": "d6ef8fea-0146-4b9f-aa45-6899d589768c"
      },
      "source": [
        "b[0]=77;\n",
        "\n",
        "print(b);\n",
        "\n",
        "print(a);"
      ],
      "execution_count": null,
      "outputs": [
        {
          "output_type": "stream",
          "text": [
            "[77  2  4  6  8]\n",
            "[77  1  2  3  4  5  6  7  8  9]\n"
          ],
          "name": "stdout"
        }
      ]
    },
    {
      "cell_type": "markdown",
      "metadata": {
        "id": "SFBB7wz3txKI"
      },
      "source": [
        "Obeseravtion: if we modify 'b', 'a' is also modified because they share memory i.e they are in same location."
      ]
    },
    {
      "cell_type": "markdown",
      "metadata": {
        "id": "kB31mNSDtxKI"
      },
      "source": [
        "# Fancy Indexing\n",
        "np arrays can be indexed with slices, but also with boolean or integer arrays(masks). This method is called fancy indexing. it creates copies not views."
      ]
    },
    {
      "cell_type": "code",
      "metadata": {
        "id": "MDZq8pZytxKI",
        "colab": {
          "base_uri": "https://localhost:8080/"
        },
        "outputId": "3e06b400-46ea-4b12-e043-ac8f03d0c03c"
      },
      "source": [
        "# it creates 15 rand nums in range 0f 0-20\n",
        "a = np.random.randint(0,20,15);\n",
        "\n",
        "print(a);"
      ],
      "execution_count": null,
      "outputs": [
        {
          "output_type": "stream",
          "text": [
            "[18 11 10 15 14  8  5 19 14  3 15  0 12  4 15]\n"
          ],
          "name": "stdout"
        }
      ]
    },
    {
      "cell_type": "code",
      "metadata": {
        "id": "URKcAi3TtxKI",
        "colab": {
          "base_uri": "https://localhost:8080/"
        },
        "outputId": "77f69e55-23f5-4d5c-9951-fb9bfb000d0a"
      },
      "source": [
        "mask = (a % 2==0);\n",
        "print(mask);"
      ],
      "execution_count": null,
      "outputs": [
        {
          "output_type": "stream",
          "text": [
            "[ True False  True False  True  True False False  True False False  True\n",
            "  True  True False]\n"
          ],
          "name": "stdout"
        }
      ]
    },
    {
      "cell_type": "code",
      "metadata": {
        "id": "lI32zRzJtxKJ",
        "colab": {
          "base_uri": "https://localhost:8080/"
        },
        "outputId": "5d9c0253-e838-4878-d56a-92c546848229"
      },
      "source": [
        "# the index which is true \n",
        "# that respective value is printed\n",
        "print(a[mask]); "
      ],
      "execution_count": null,
      "outputs": [
        {
          "output_type": "stream",
          "text": [
            "[18 10 14  8 14  0 12  4]\n"
          ],
          "name": "stdout"
        }
      ]
    },
    {
      "cell_type": "markdown",
      "metadata": {
        "id": "5t54oXPbtxKJ"
      },
      "source": [
        "Other Example: "
      ]
    },
    {
      "cell_type": "code",
      "metadata": {
        "id": "OY5IvPJjtxKJ",
        "colab": {
          "base_uri": "https://localhost:8080/"
        },
        "outputId": "a1a01a90-e342-4f25-a19e-08b51c6341cd"
      },
      "source": [
        "b = np.array([1,2,3,4,5,6,7,8]);\n",
        "\n",
        "mask = (b % 2 !=0);\n",
        "\n",
        "b[mask] = -1;\n",
        "\n",
        "print(b);"
      ],
      "execution_count": null,
      "outputs": [
        {
          "output_type": "stream",
          "text": [
            "[-1  2 -1  4 -1  6 -1  8]\n"
          ],
          "name": "stdout"
        }
      ]
    },
    {
      "cell_type": "markdown",
      "metadata": {
        "id": "2JjLOxobtxKK"
      },
      "source": [
        "Observation: Replacing all odd indexed values to -1"
      ]
    },
    {
      "cell_type": "markdown",
      "metadata": {
        "id": "O-BsSsT6txKK"
      },
      "source": [
        "#### Indexing with an array of integers"
      ]
    },
    {
      "cell_type": "code",
      "metadata": {
        "colab": {
          "base_uri": "https://localhost:8080/"
        },
        "id": "MHMIy0zItxKK",
        "outputId": "4708205d-974e-496c-cd43-0c5b9b4b3c08"
      },
      "source": [
        "a = np.arange(0,100,10);\n",
        "\n",
        "print(a);\n",
        "\n",
        "#list of indices, i.e values at this indices\n",
        "# will be present in the list\n",
        "print(a[[2,3,2,4,2,5]]);\n",
        "\n"
      ],
      "execution_count": null,
      "outputs": [
        {
          "output_type": "stream",
          "text": [
            "[ 0 10 20 30 40 50 60 70 80 90]\n",
            "[20 30 20 40 20 50]\n"
          ],
          "name": "stdout"
        }
      ]
    },
    {
      "cell_type": "code",
      "metadata": {
        "scrolled": true,
        "id": "EP7vSaSLtxKL",
        "colab": {
          "base_uri": "https://localhost:8080/"
        },
        "outputId": "327f4841-3ff1-47f1-a209-944dfd4591d9"
      },
      "source": [
        "#value at indices 0,3 will be replaced by 77\n",
        "a[[0,3]]=77;\n",
        "\n",
        "print(a);"
      ],
      "execution_count": null,
      "outputs": [
        {
          "output_type": "stream",
          "text": [
            "[77 10 20 77 40 50 60 70 80 90]\n"
          ],
          "name": "stdout"
        }
      ]
    },
    {
      "cell_type": "code",
      "metadata": {
        "id": "5QUigauMtxKL"
      },
      "source": [
        ""
      ],
      "execution_count": null,
      "outputs": []
    }
  ]
}