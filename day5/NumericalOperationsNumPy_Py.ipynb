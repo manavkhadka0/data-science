{
  "nbformat": 4,
  "nbformat_minor": 0,
  "metadata": {
    "kernelspec": {
      "display_name": "Python 3",
      "language": "python",
      "name": "python3"
    },
    "language_info": {
      "codemirror_mode": {
        "name": "ipython",
        "version": 3
      },
      "file_extension": ".py",
      "mimetype": "text/x-python",
      "name": "python",
      "nbconvert_exporter": "python",
      "pygments_lexer": "ipython3",
      "version": "3.6.4"
    },
    "colab": {
      "name": "NumericalOperationsNumPy_Py.ipynb",
      "provenance": []
    }
  },
  "cells": [
    {
      "cell_type": "markdown",
      "metadata": {
        "id": "UvgxOnIduVxS"
      },
      "source": [
        "# Numerical Operations"
      ]
    },
    {
      "cell_type": "code",
      "metadata": {
        "id": "BrEERTVDuVxd",
        "colab": {
          "base_uri": "https://localhost:8080/"
        },
        "outputId": "960708f2-bc6a-47d8-9e85-95534b4b841c"
      },
      "source": [
        "import numpy as np\n",
        "\n",
        "a = np.array([1,2,3,4,5]);\n",
        "\n",
        "print(a+1);"
      ],
      "execution_count": 35,
      "outputs": [
        {
          "output_type": "stream",
          "text": [
            "[2 3 4 5 6]\n"
          ],
          "name": "stdout"
        }
      ]
    },
    {
      "cell_type": "code",
      "metadata": {
        "id": "IvFLAhVkuVxh",
        "colab": {
          "base_uri": "https://localhost:8080/"
        },
        "outputId": "a171ea4d-5071-4be8-ed5c-006641d2dd92"
      },
      "source": [
        "print(a**2);"
      ],
      "execution_count": 36,
      "outputs": [
        {
          "output_type": "stream",
          "text": [
            "[ 1  4  9 16 25]\n"
          ],
          "name": "stdout"
        }
      ]
    },
    {
      "cell_type": "markdown",
      "metadata": {
        "id": "joQoF5wchlZ4"
      },
      "source": [
        "ELEMENT WISE operation"
      ]
    },
    {
      "cell_type": "code",
      "metadata": {
        "id": "KWhEWoAFuVxi",
        "colab": {
          "base_uri": "https://localhost:8080/"
        },
        "outputId": "5bfe4993-194a-48f6-ea90-679791d65978"
      },
      "source": [
        "print(a-3);"
      ],
      "execution_count": 37,
      "outputs": [
        {
          "output_type": "stream",
          "text": [
            "[-2 -1  0  1  2]\n"
          ],
          "name": "stdout"
        }
      ]
    },
    {
      "cell_type": "code",
      "metadata": {
        "id": "ap2fhri2uVxj",
        "colab": {
          "base_uri": "https://localhost:8080/"
        },
        "outputId": "4b2f07db-1b17-4903-ab6b-7fe0ab59ea25"
      },
      "source": [
        "print(a/2);"
      ],
      "execution_count": 38,
      "outputs": [
        {
          "output_type": "stream",
          "text": [
            "[0.5 1.  1.5 2.  2.5]\n"
          ],
          "name": "stdout"
        }
      ]
    },
    {
      "cell_type": "code",
      "metadata": {
        "id": "rEVbbhKquVxk",
        "colab": {
          "base_uri": "https://localhost:8080/"
        },
        "outputId": "47514979-1d85-450a-d569-ed7c051a84ca"
      },
      "source": [
        "a = np.ones((3,3),dtype='int') * 3;\n",
        "print(a);"
      ],
      "execution_count": 39,
      "outputs": [
        {
          "output_type": "stream",
          "text": [
            "[[3 3 3]\n",
            " [3 3 3]\n",
            " [3 3 3]]\n"
          ],
          "name": "stdout"
        }
      ]
    },
    {
      "cell_type": "code",
      "metadata": {
        "id": "rTYPHvMkuVxl",
        "colab": {
          "base_uri": "https://localhost:8080/"
        },
        "outputId": "46c898a2-0159-4550-9a88-c137258fe479"
      },
      "source": [
        "b = np.diag([6,2,7]);\n",
        "\n",
        "print(b);"
      ],
      "execution_count": 40,
      "outputs": [
        {
          "output_type": "stream",
          "text": [
            "[[6 0 0]\n",
            " [0 2 0]\n",
            " [0 0 7]]\n"
          ],
          "name": "stdout"
        }
      ]
    },
    {
      "cell_type": "code",
      "metadata": {
        "id": "FidJntjAuVxm",
        "colab": {
          "base_uri": "https://localhost:8080/"
        },
        "outputId": "fe2834ff-b1c5-4893-89fa-0f413664c269"
      },
      "source": [
        "print(a+b);"
      ],
      "execution_count": 41,
      "outputs": [
        {
          "output_type": "stream",
          "text": [
            "[[ 9  3  3]\n",
            " [ 3  5  3]\n",
            " [ 3  3 10]]\n"
          ],
          "name": "stdout"
        }
      ]
    },
    {
      "cell_type": "code",
      "metadata": {
        "id": "8eiOFt0nuVxq"
      },
      "source": [
        "a = np.array([[1,2,3],[4,5,6],[7,8,9]]);\n",
        "\n",
        "b= np.ones((3,3))+2;"
      ],
      "execution_count": 42,
      "outputs": []
    },
    {
      "cell_type": "code",
      "metadata": {
        "id": "HbKBZo_puVxs",
        "colab": {
          "base_uri": "https://localhost:8080/"
        },
        "outputId": "3b7956d5-fb35-4c15-a133-eb02749ae89c"
      },
      "source": [
        "print(a*b); #element wise multiplication"
      ],
      "execution_count": 43,
      "outputs": [
        {
          "output_type": "stream",
          "text": [
            "[[ 3.  6.  9.]\n",
            " [12. 15. 18.]\n",
            " [21. 24. 27.]]\n"
          ],
          "name": "stdout"
        }
      ]
    },
    {
      "cell_type": "code",
      "metadata": {
        "id": "iKtT3DwKuVxw",
        "colab": {
          "base_uri": "https://localhost:8080/"
        },
        "outputId": "6746bc1a-e735-4977-b4a4-c297551d1863"
      },
      "source": [
        "a = np.array([1,2,3,4])\n",
        "b = np.array([1,2,3,6])\n",
        "\n",
        "a==b"
      ],
      "execution_count": 44,
      "outputs": [
        {
          "output_type": "execute_result",
          "data": {
            "text/plain": [
              "array([ True,  True,  True, False])"
            ]
          },
          "metadata": {
            "tags": []
          },
          "execution_count": 44
        }
      ]
    },
    {
      "cell_type": "code",
      "metadata": {
        "id": "ZboiIP9IuVx1",
        "colab": {
          "base_uri": "https://localhost:8080/"
        },
        "outputId": "49ae5236-622d-491a-ac03-1a2596967694"
      },
      "source": [
        "a < b"
      ],
      "execution_count": 45,
      "outputs": [
        {
          "output_type": "execute_result",
          "data": {
            "text/plain": [
              "array([False, False, False,  True])"
            ]
          },
          "metadata": {
            "tags": []
          },
          "execution_count": 45
        }
      ]
    },
    {
      "cell_type": "code",
      "metadata": {
        "id": "l1Y6pilAuVx4",
        "colab": {
          "base_uri": "https://localhost:8080/"
        },
        "outputId": "f600279f-d481-4b0a-a9e4-1d0b4611ac6d"
      },
      "source": [
        "c = np.array([1,2,3,4]);\n",
        "\n",
        "np.array_equal(a,c)"
      ],
      "execution_count": 46,
      "outputs": [
        {
          "output_type": "execute_result",
          "data": {
            "text/plain": [
              "True"
            ]
          },
          "metadata": {
            "tags": []
          },
          "execution_count": 46
        }
      ]
    },
    {
      "cell_type": "markdown",
      "metadata": {
        "id": "3MW2l5A1uVx7"
      },
      "source": [
        "#### Logical Operations"
      ]
    },
    {
      "cell_type": "code",
      "metadata": {
        "id": "h9DMoE8tuVx-",
        "colab": {
          "base_uri": "https://localhost:8080/"
        },
        "outputId": "7232fad4-5623-45e2-e8b5-5f1fe90b3d88"
      },
      "source": [
        "a = np.array([1,0,1,0], dtype='bool')\n",
        "b = np.array([0,0,1,1], dtype=bool);\n",
        "\n",
        "np.logical_and(a,b)"
      ],
      "execution_count": 47,
      "outputs": [
        {
          "output_type": "execute_result",
          "data": {
            "text/plain": [
              "array([False, False,  True, False])"
            ]
          },
          "metadata": {
            "tags": []
          },
          "execution_count": 47
        }
      ]
    },
    {
      "cell_type": "code",
      "metadata": {
        "id": "hL5elWlHuVyA",
        "colab": {
          "base_uri": "https://localhost:8080/"
        },
        "outputId": "5904eea2-46b3-4b2b-9c5e-c039dec439ee"
      },
      "source": [
        "np.logical_or(a,b)"
      ],
      "execution_count": 48,
      "outputs": [
        {
          "output_type": "execute_result",
          "data": {
            "text/plain": [
              "array([ True, False,  True,  True])"
            ]
          },
          "metadata": {
            "tags": []
          },
          "execution_count": 48
        }
      ]
    },
    {
      "cell_type": "code",
      "metadata": {
        "id": "OVD4C_KXuVyC",
        "colab": {
          "base_uri": "https://localhost:8080/"
        },
        "outputId": "63e1c6cd-368f-4444-e9c3-be29a667345b"
      },
      "source": [
        "a = np.arange(4);\n",
        "\n",
        "np.sin(a)"
      ],
      "execution_count": 49,
      "outputs": [
        {
          "output_type": "execute_result",
          "data": {
            "text/plain": [
              "array([0.        , 0.84147098, 0.90929743, 0.14112001])"
            ]
          },
          "metadata": {
            "tags": []
          },
          "execution_count": 49
        }
      ]
    },
    {
      "cell_type": "code",
      "metadata": {
        "id": "cv7RBTszuVyF",
        "colab": {
          "base_uri": "https://localhost:8080/"
        },
        "outputId": "8ac090a5-3661-49c7-c6e7-1645560d90ce"
      },
      "source": [
        "np.log(a[2])"
      ],
      "execution_count": 50,
      "outputs": [
        {
          "output_type": "execute_result",
          "data": {
            "text/plain": [
              "0.6931471805599453"
            ]
          },
          "metadata": {
            "tags": []
          },
          "execution_count": 50
        }
      ]
    },
    {
      "cell_type": "code",
      "metadata": {
        "id": "WSy56ZTUuVyH",
        "colab": {
          "base_uri": "https://localhost:8080/"
        },
        "outputId": "148204a3-fa82-4ff5-dd59-87a5682431df"
      },
      "source": [
        "np.exp(a)"
      ],
      "execution_count": 51,
      "outputs": [
        {
          "output_type": "execute_result",
          "data": {
            "text/plain": [
              "array([ 1.        ,  2.71828183,  7.3890561 , 20.08553692])"
            ]
          },
          "metadata": {
            "tags": []
          },
          "execution_count": 51
        }
      ]
    },
    {
      "cell_type": "markdown",
      "metadata": {
        "id": "SJNViokuuVyK"
      },
      "source": [
        "#### Computing Sums"
      ]
    },
    {
      "cell_type": "code",
      "metadata": {
        "id": "66zPM5KJuVyM",
        "colab": {
          "base_uri": "https://localhost:8080/"
        },
        "outputId": "553c130a-155d-4383-83c4-b51fa727a6e7"
      },
      "source": [
        "a = np.array([1,2,3,4]);\n",
        "\n",
        "np.sum(a)"
      ],
      "execution_count": 52,
      "outputs": [
        {
          "output_type": "execute_result",
          "data": {
            "text/plain": [
              "10"
            ]
          },
          "metadata": {
            "tags": []
          },
          "execution_count": 52
        }
      ]
    },
    {
      "cell_type": "code",
      "metadata": {
        "id": "DEmSwfzVuVyO",
        "colab": {
          "base_uri": "https://localhost:8080/"
        },
        "outputId": "33d9ae73-0068-4166-ec52-c2e339330cf7"
      },
      "source": [
        "x = np.array([[1,2],[3,4]])\n",
        "\n",
        "print(x);"
      ],
      "execution_count": 53,
      "outputs": [
        {
          "output_type": "stream",
          "text": [
            "[[1 2]\n",
            " [3 4]]\n"
          ],
          "name": "stdout"
        }
      ]
    },
    {
      "cell_type": "code",
      "metadata": {
        "id": "QHLKfWe3uVyQ",
        "colab": {
          "base_uri": "https://localhost:8080/"
        },
        "outputId": "3c88598e-c371-4804-8ab4-5a6e17bac8ed"
      },
      "source": [
        "x.sum(axis=0) #axis 0 implies col"
      ],
      "execution_count": 54,
      "outputs": [
        {
          "output_type": "execute_result",
          "data": {
            "text/plain": [
              "array([4, 6])"
            ]
          },
          "metadata": {
            "tags": []
          },
          "execution_count": 54
        }
      ]
    },
    {
      "cell_type": "code",
      "metadata": {
        "id": "6WyN8HLnuVyR",
        "colab": {
          "base_uri": "https://localhost:8080/"
        },
        "outputId": "3f817c4b-a825-4451-bca1-6fa19445c7f3"
      },
      "source": [
        "x.sum(axis=1) #axis 1 implies row"
      ],
      "execution_count": 55,
      "outputs": [
        {
          "output_type": "execute_result",
          "data": {
            "text/plain": [
              "array([3, 7])"
            ]
          },
          "metadata": {
            "tags": []
          },
          "execution_count": 55
        }
      ]
    },
    {
      "cell_type": "code",
      "metadata": {
        "id": "w8xiiNrduVyR",
        "colab": {
          "base_uri": "https://localhost:8080/"
        },
        "outputId": "5da1d751-ec8e-4e0f-a772-81ba7cb16ce2"
      },
      "source": [
        "print(x.min());"
      ],
      "execution_count": 56,
      "outputs": [
        {
          "output_type": "stream",
          "text": [
            "1\n"
          ],
          "name": "stdout"
        }
      ]
    },
    {
      "cell_type": "code",
      "metadata": {
        "id": "gckOAn2AuVyS",
        "colab": {
          "base_uri": "https://localhost:8080/"
        },
        "outputId": "5f6f9cc7-cdbf-4564-e522-68a2f50717a1"
      },
      "source": [
        "print(x.max());"
      ],
      "execution_count": 57,
      "outputs": [
        {
          "output_type": "stream",
          "text": [
            "4\n"
          ],
          "name": "stdout"
        }
      ]
    },
    {
      "cell_type": "code",
      "metadata": {
        "id": "s_5DuZSouVyU",
        "colab": {
          "base_uri": "https://localhost:8080/"
        },
        "outputId": "c36e62be-3ef4-41d9-cb4a-844dabf2f29b"
      },
      "source": [
        "print(x.argmin()); #index of least element"
      ],
      "execution_count": 58,
      "outputs": [
        {
          "output_type": "stream",
          "text": [
            "0\n"
          ],
          "name": "stdout"
        }
      ]
    },
    {
      "cell_type": "code",
      "metadata": {
        "id": "2ShvMU93uVyW",
        "colab": {
          "base_uri": "https://localhost:8080/"
        },
        "outputId": "3f57dfc3-4871-4311-f9cf-08b923ab56a9"
      },
      "source": [
        "print(x.argmax()); #index of larget element "
      ],
      "execution_count": 59,
      "outputs": [
        {
          "output_type": "stream",
          "text": [
            "3\n"
          ],
          "name": "stdout"
        }
      ]
    },
    {
      "cell_type": "code",
      "metadata": {
        "id": "qXThI5AmuVya",
        "colab": {
          "base_uri": "https://localhost:8080/"
        },
        "outputId": "43f8cf42-f7a0-4afb-f352-bf658dca98e3"
      },
      "source": [
        "#it returns true if all vals are true\n",
        "np.all([True,True,False])"
      ],
      "execution_count": 60,
      "outputs": [
        {
          "output_type": "execute_result",
          "data": {
            "text/plain": [
              "False"
            ]
          },
          "metadata": {
            "tags": []
          },
          "execution_count": 60
        }
      ]
    },
    {
      "cell_type": "code",
      "metadata": {
        "id": "AHwyoAENuVyd",
        "colab": {
          "base_uri": "https://localhost:8080/"
        },
        "outputId": "969be7c4-7afc-4b46-c739-10cd5175839f"
      },
      "source": [
        "#it returns true if atleaset one val is true\n",
        "\n",
        "np.any([True,True,False])"
      ],
      "execution_count": 61,
      "outputs": [
        {
          "output_type": "execute_result",
          "data": {
            "text/plain": [
              "True"
            ]
          },
          "metadata": {
            "tags": []
          },
          "execution_count": 61
        }
      ]
    },
    {
      "cell_type": "code",
      "metadata": {
        "id": "xthmElI_uVye",
        "colab": {
          "base_uri": "https://localhost:8080/"
        },
        "outputId": "21bddfb4-e063-44dc-a57d-ca921674b7ea"
      },
      "source": [
        "a = np.zeros((3,3));\n",
        "\n",
        "np.any(a!=0)"
      ],
      "execution_count": 62,
      "outputs": [
        {
          "output_type": "execute_result",
          "data": {
            "text/plain": [
              "False"
            ]
          },
          "metadata": {
            "tags": []
          },
          "execution_count": 62
        }
      ]
    },
    {
      "cell_type": "code",
      "metadata": {
        "id": "B7xtkWHsuVyf",
        "colab": {
          "base_uri": "https://localhost:8080/"
        },
        "outputId": "2aab365f-39b7-4dbe-ee4f-6a72448940af"
      },
      "source": [
        "np.all(a==0)"
      ],
      "execution_count": 63,
      "outputs": [
        {
          "output_type": "execute_result",
          "data": {
            "text/plain": [
              "True"
            ]
          },
          "metadata": {
            "tags": []
          },
          "execution_count": 63
        }
      ]
    },
    {
      "cell_type": "code",
      "metadata": {
        "id": "uyFYdsDWuVyg",
        "colab": {
          "base_uri": "https://localhost:8080/"
        },
        "outputId": "12ce4a69-51d4-4947-ef64-6ed23579f144"
      },
      "source": [
        "a= np.array([1,2,3,4])\n",
        "b= np.array([1,2,3,4])+1\n",
        "c= np.array([1,2,3,4])+2\n",
        "((a<b) & (b<c)).all()"
      ],
      "execution_count": 64,
      "outputs": [
        {
          "output_type": "execute_result",
          "data": {
            "text/plain": [
              "True"
            ]
          },
          "metadata": {
            "tags": []
          },
          "execution_count": 64
        }
      ]
    },
    {
      "cell_type": "markdown",
      "metadata": {
        "id": "-Fmcb13XuVyh"
      },
      "source": [
        "### Statistics"
      ]
    },
    {
      "cell_type": "code",
      "metadata": {
        "id": "OhyEvarcuVyh",
        "colab": {
          "base_uri": "https://localhost:8080/"
        },
        "outputId": "fb78807c-4baf-49b8-a414-6d13f19e2eda"
      },
      "source": [
        "x = np.array([1,2,3,4,1,1]);\n",
        "\n",
        "x.mean()"
      ],
      "execution_count": 65,
      "outputs": [
        {
          "output_type": "execute_result",
          "data": {
            "text/plain": [
              "2.0"
            ]
          },
          "metadata": {
            "tags": []
          },
          "execution_count": 65
        }
      ]
    },
    {
      "cell_type": "code",
      "metadata": {
        "id": "g4xZuANxuVyi",
        "colab": {
          "base_uri": "https://localhost:8080/"
        },
        "outputId": "c5f1d9a1-b19d-472a-e727-838d5bf87bb4"
      },
      "source": [
        "np.median(x)"
      ],
      "execution_count": 66,
      "outputs": [
        {
          "output_type": "execute_result",
          "data": {
            "text/plain": [
              "1.5"
            ]
          },
          "metadata": {
            "tags": []
          },
          "execution_count": 66
        }
      ]
    },
    {
      "cell_type": "code",
      "metadata": {
        "id": "N8jh25CyuVyj",
        "colab": {
          "base_uri": "https://localhost:8080/"
        },
        "outputId": "ad1a1a27-493a-4fd7-dd54-c54d12187fc3"
      },
      "source": [
        "x.std()"
      ],
      "execution_count": 67,
      "outputs": [
        {
          "output_type": "execute_result",
          "data": {
            "text/plain": [
              "1.1547005383792515"
            ]
          },
          "metadata": {
            "tags": []
          },
          "execution_count": 67
        }
      ]
    },
    {
      "cell_type": "markdown",
      "metadata": {
        "id": "EvTopmS4uVyk"
      },
      "source": [
        "Example: "
      ]
    },
    {
      "cell_type": "code",
      "metadata": {
        "id": "jamtphYWuVyk"
      },
      "source": [
        "data = np.loadtxt('populations.txt')"
      ],
      "execution_count": 68,
      "outputs": []
    },
    {
      "cell_type": "code",
      "metadata": {
        "id": "NL7rK0POuVyl",
        "colab": {
          "base_uri": "https://localhost:8080/"
        },
        "outputId": "8d634a32-f9b9-4614-adaa-49f9d8dc6ee2"
      },
      "source": [
        "data"
      ],
      "execution_count": 69,
      "outputs": [
        {
          "output_type": "execute_result",
          "data": {
            "text/plain": [
              "array([[ 1900., 30000.,  4000., 48300.],\n",
              "       [ 1901., 47200.,  6100., 48200.],\n",
              "       [ 1902., 70200.,  9800., 41500.],\n",
              "       [ 1903., 77400., 35200., 38200.],\n",
              "       [ 1904., 36300., 59400., 40600.],\n",
              "       [ 1905., 20600., 41700., 39800.],\n",
              "       [ 1906., 18100., 19000., 38600.],\n",
              "       [ 1907., 21400., 13000., 42300.],\n",
              "       [ 1908., 22000.,  8300., 44500.],\n",
              "       [ 1909., 25400.,  9100., 42100.],\n",
              "       [ 1910., 27100.,  7400., 46000.],\n",
              "       [ 1911., 40300.,  8000., 46800.],\n",
              "       [ 1912., 57000., 12300., 43800.],\n",
              "       [ 1913., 76600., 19500., 40900.],\n",
              "       [ 1914., 52300., 45700., 39400.],\n",
              "       [ 1915., 19500., 51100., 39000.],\n",
              "       [ 1916., 11200., 29700., 36700.],\n",
              "       [ 1917.,  7600., 15800., 41800.],\n",
              "       [ 1918., 14600.,  9700., 43300.],\n",
              "       [ 1919., 16200., 10100., 41300.],\n",
              "       [ 1920., 24700.,  8600., 47300.]])"
            ]
          },
          "metadata": {
            "tags": []
          },
          "execution_count": 69
        }
      ]
    },
    {
      "cell_type": "code",
      "metadata": {
        "id": "V6TxfDMauVym"
      },
      "source": [
        "#These are the cols in file\n",
        "year, hares, lynxes, carrots = data.T #transpose"
      ],
      "execution_count": 70,
      "outputs": []
    },
    {
      "cell_type": "code",
      "metadata": {
        "id": "DVSbtq6muVym",
        "colab": {
          "base_uri": "https://localhost:8080/"
        },
        "outputId": "bf007f5b-3007-4d58-ce4e-9f302d116e1c"
      },
      "source": [
        "print(year)"
      ],
      "execution_count": 71,
      "outputs": [
        {
          "output_type": "stream",
          "text": [
            "[1900. 1901. 1902. 1903. 1904. 1905. 1906. 1907. 1908. 1909. 1910. 1911.\n",
            " 1912. 1913. 1914. 1915. 1916. 1917. 1918. 1919. 1920.]\n"
          ],
          "name": "stdout"
        }
      ]
    },
    {
      "cell_type": "code",
      "metadata": {
        "id": "ptF8FuRZuVyn",
        "colab": {
          "base_uri": "https://localhost:8080/"
        },
        "outputId": "0a559c31-e410-42fb-d5de-57a6bde31149"
      },
      "source": [
        "#Mean population\n",
        "#considering cols other that 1st col i.e year\n",
        "population = data[:,1:]\n",
        "population"
      ],
      "execution_count": 72,
      "outputs": [
        {
          "output_type": "execute_result",
          "data": {
            "text/plain": [
              "array([[30000.,  4000., 48300.],\n",
              "       [47200.,  6100., 48200.],\n",
              "       [70200.,  9800., 41500.],\n",
              "       [77400., 35200., 38200.],\n",
              "       [36300., 59400., 40600.],\n",
              "       [20600., 41700., 39800.],\n",
              "       [18100., 19000., 38600.],\n",
              "       [21400., 13000., 42300.],\n",
              "       [22000.,  8300., 44500.],\n",
              "       [25400.,  9100., 42100.],\n",
              "       [27100.,  7400., 46000.],\n",
              "       [40300.,  8000., 46800.],\n",
              "       [57000., 12300., 43800.],\n",
              "       [76600., 19500., 40900.],\n",
              "       [52300., 45700., 39400.],\n",
              "       [19500., 51100., 39000.],\n",
              "       [11200., 29700., 36700.],\n",
              "       [ 7600., 15800., 41800.],\n",
              "       [14600.,  9700., 43300.],\n",
              "       [16200., 10100., 41300.],\n",
              "       [24700.,  8600., 47300.]])"
            ]
          },
          "metadata": {
            "tags": []
          },
          "execution_count": 72
        }
      ]
    },
    {
      "cell_type": "code",
      "metadata": {
        "id": "gQCRHimuuVyn",
        "colab": {
          "base_uri": "https://localhost:8080/"
        },
        "outputId": "a0aaf593-b20e-4e3b-cf8c-084a027c4a0a"
      },
      "source": [
        "population.std(axis=0) #cols"
      ],
      "execution_count": 73,
      "outputs": [
        {
          "output_type": "execute_result",
          "data": {
            "text/plain": [
              "array([20897.90645809, 16254.59153691,  3322.50622558])"
            ]
          },
          "metadata": {
            "tags": []
          },
          "execution_count": 73
        }
      ]
    },
    {
      "cell_type": "code",
      "metadata": {
        "id": "7Ox9MGQvuVyo",
        "colab": {
          "base_uri": "https://localhost:8080/"
        },
        "outputId": "a810d25c-de85-41b0-f09f-2752651a7220"
      },
      "source": [
        "np.argmax(population,axis=1)"
      ],
      "execution_count": 74,
      "outputs": [
        {
          "output_type": "execute_result",
          "data": {
            "text/plain": [
              "array([2, 2, 0, 0, 1, 1, 2, 2, 2, 2, 2, 2, 0, 0, 0, 1, 2, 2, 2, 2, 2])"
            ]
          },
          "metadata": {
            "tags": []
          },
          "execution_count": 74
        }
      ]
    },
    {
      "cell_type": "markdown",
      "metadata": {
        "id": "LFU_mZ8DuVyo"
      },
      "source": [
        "# Broadcasting"
      ]
    },
    {
      "cell_type": "markdown",
      "metadata": {
        "id": "KioYZLFVuVyo"
      },
      "source": [
        "[\n",
        " [1,2,3],\n",
        " [1,1,1],\n",
        " [3,2,2]\n",
        "]\n",
        "\n",
        "+\n",
        "\n",
        "[\n",
        " [0,1,2],\n",
        " [0,1,2],\n",
        " [0,1,2]\n",
        "]\n",
        "\n",
        "is same as\n",
        "\n",
        "[\n",
        " [1,2,3],\n",
        " [1,1,1],\n",
        " [3,2,2]\n",
        "]\n",
        "\n",
        "+\n",
        "\n",
        "[\n",
        " [0,1,2], \n",
        "]\n",
        "\n",
        "#it will add 2 more rows to sync up with \n",
        "#first matrix<br>"
      ]
    },
    {
      "cell_type": "markdown",
      "metadata": {
        "id": "EUD7-7aDuVyp"
      },
      "source": [
        "Other Example:\n",
        "\n",
        "[\n",
        "[1],\n",
        "[2],\n",
        "[3],\n",
        "[4]\n",
        "]\n",
        "\n",
        "+\n",
        "\n",
        "[\n",
        " [0,1,2]\n",
        "]\n",
        "\n",
        "is same is\n",
        "\n",
        "[\n",
        "[1,2,3,4],\n",
        "[1,2,3,4],\n",
        "[1,2,3,4],\n",
        "[1,2,3,4]\n",
        "]\n",
        "\n",
        "+\n",
        "\n",
        "[\n",
        " [0,1,2],\n",
        " [0,1,2],\n",
        " [0,1,2],\n",
        " [0,1,2]\n",
        "]"
      ]
    },
    {
      "cell_type": "markdown",
      "metadata": {
        "id": "qIPQFcbUuVyq"
      },
      "source": [
        "#### Tiles"
      ]
    },
    {
      "cell_type": "code",
      "metadata": {
        "id": "rIanOZJEuVyq",
        "colab": {
          "base_uri": "https://localhost:8080/"
        },
        "outputId": "1348a879-1a0c-4b3e-c826-1a8e36c7cd39"
      },
      "source": [
        "#in 2nd argument 3 is repeat row 3 times and 1\n",
        "# is repeat col 1 time\n",
        "a = np.tile(np.arange(3),(3,1))\n",
        "\n",
        "print(a);"
      ],
      "execution_count": 75,
      "outputs": [
        {
          "output_type": "stream",
          "text": [
            "[[0 1 2]\n",
            " [0 1 2]\n",
            " [0 1 2]]\n"
          ],
          "name": "stdout"
        }
      ]
    },
    {
      "cell_type": "code",
      "metadata": {
        "id": "fd4Q_EE5uVyr",
        "colab": {
          "base_uri": "https://localhost:8080/"
        },
        "outputId": "39c7e7b3-17bb-4c42-ff63-b37f764ce403"
      },
      "source": [
        "a = np.tile(np.arange(3),(3,2))\n",
        "\n",
        "print(a);"
      ],
      "execution_count": 76,
      "outputs": [
        {
          "output_type": "stream",
          "text": [
            "[[0 1 2 0 1 2]\n",
            " [0 1 2 0 1 2]\n",
            " [0 1 2 0 1 2]]\n"
          ],
          "name": "stdout"
        }
      ]
    },
    {
      "cell_type": "code",
      "metadata": {
        "id": "qLH3ufHHuVyr",
        "colab": {
          "base_uri": "https://localhost:8080/"
        },
        "outputId": "4c549efc-9d7b-4694-a338-9267de9dde17"
      },
      "source": [
        "a = np.tile(np.arange(3),(3,1))\n",
        "print(\"a is \",a)\n",
        "\n",
        "b = np.arange(3);\n",
        "\n",
        "print(\"b is: \",b);\n",
        "\n",
        "a+b"
      ],
      "execution_count": 77,
      "outputs": [
        {
          "output_type": "stream",
          "text": [
            "a is  [[0 1 2]\n",
            " [0 1 2]\n",
            " [0 1 2]]\n",
            "b is:  [0 1 2]\n"
          ],
          "name": "stdout"
        },
        {
          "output_type": "execute_result",
          "data": {
            "text/plain": [
              "array([[0, 2, 4],\n",
              "       [0, 2, 4],\n",
              "       [0, 2, 4]])"
            ]
          },
          "metadata": {
            "tags": []
          },
          "execution_count": 77
        }
      ]
    },
    {
      "cell_type": "code",
      "metadata": {
        "id": "KVmYdWCvuVys",
        "colab": {
          "base_uri": "https://localhost:8080/"
        },
        "outputId": "8414b82c-6caa-4b8c-d790-ea40af68e702"
      },
      "source": [
        "a = np.arange(4)\n",
        "\n",
        "a.shape\n",
        "print(a)"
      ],
      "execution_count": 78,
      "outputs": [
        {
          "output_type": "stream",
          "text": [
            "[0 1 2 3]\n"
          ],
          "name": "stdout"
        }
      ]
    },
    {
      "cell_type": "code",
      "metadata": {
        "id": "ZkUmr4dFuVys",
        "colab": {
          "base_uri": "https://localhost:8080/"
        },
        "outputId": "782db933-f35f-4e23-c873-e15d831137ce"
      },
      "source": [
        "a = a[:, np.newaxis] #converts it to 2d array\n",
        "\n",
        "a.shape"
      ],
      "execution_count": 79,
      "outputs": [
        {
          "output_type": "execute_result",
          "data": {
            "text/plain": [
              "(4, 1)"
            ]
          },
          "metadata": {
            "tags": []
          },
          "execution_count": 79
        }
      ]
    },
    {
      "cell_type": "code",
      "metadata": {
        "id": "uOwOTXa9uVys",
        "colab": {
          "base_uri": "https://localhost:8080/"
        },
        "outputId": "0a27683d-c881-4e66-b646-790857aed397"
      },
      "source": [
        "print(a)"
      ],
      "execution_count": 80,
      "outputs": [
        {
          "output_type": "stream",
          "text": [
            "[[0]\n",
            " [1]\n",
            " [2]\n",
            " [3]]\n"
          ],
          "name": "stdout"
        }
      ]
    },
    {
      "cell_type": "code",
      "metadata": {
        "id": "zWzKxaO3uVyt"
      },
      "source": [
        "b = np.array([0,1,2,3]);"
      ],
      "execution_count": 81,
      "outputs": []
    },
    {
      "cell_type": "code",
      "metadata": {
        "id": "kGes0RRGuVyt",
        "colab": {
          "base_uri": "https://localhost:8080/"
        },
        "outputId": "7d584b94-f56f-4064-ba99-964d74e0bbe6"
      },
      "source": [
        "a+b"
      ],
      "execution_count": 82,
      "outputs": [
        {
          "output_type": "execute_result",
          "data": {
            "text/plain": [
              "array([[0, 1, 2, 3],\n",
              "       [1, 2, 3, 4],\n",
              "       [2, 3, 4, 5],\n",
              "       [3, 4, 5, 6]])"
            ]
          },
          "metadata": {
            "tags": []
          },
          "execution_count": 82
        }
      ]
    },
    {
      "cell_type": "markdown",
      "metadata": {
        "id": "A78ejksuuVyu"
      },
      "source": [
        "# Array Shape Manipulations"
      ]
    },
    {
      "cell_type": "markdown",
      "metadata": {
        "id": "A-8yDNFEuVyu"
      },
      "source": [
        "Flattening"
      ]
    },
    {
      "cell_type": "code",
      "metadata": {
        "id": "DyZswBFquVyu",
        "colab": {
          "base_uri": "https://localhost:8080/"
        },
        "outputId": "d0b87d3e-64c8-4ec8-ff84-537c834362b6"
      },
      "source": [
        "#Converts 2d array to 1d array\n",
        "\n",
        "a = np.array([[1,2,3],[4,5,6]])\n",
        "print(a);"
      ],
      "execution_count": 83,
      "outputs": [
        {
          "output_type": "stream",
          "text": [
            "[[1 2 3]\n",
            " [4 5 6]]\n"
          ],
          "name": "stdout"
        }
      ]
    },
    {
      "cell_type": "code",
      "metadata": {
        "id": "YncLYS1RuVyv",
        "colab": {
          "base_uri": "https://localhost:8080/"
        },
        "outputId": "8a8e89a0-227b-4c72-a80a-487c00ff915f"
      },
      "source": [
        "print(a.ravel()); #converted to 1d array"
      ],
      "execution_count": 84,
      "outputs": [
        {
          "output_type": "stream",
          "text": [
            "[1 2 3 4 5 6]\n"
          ],
          "name": "stdout"
        }
      ]
    },
    {
      "cell_type": "code",
      "metadata": {
        "id": "mVLpo_feuVyv",
        "colab": {
          "base_uri": "https://localhost:8080/"
        },
        "outputId": "3ab94225-9be3-40c4-bc8d-0984a58f331a"
      },
      "source": [
        "print(a.T.ravel()); #transposed 1d array"
      ],
      "execution_count": 85,
      "outputs": [
        {
          "output_type": "stream",
          "text": [
            "[1 4 2 5 3 6]\n"
          ],
          "name": "stdout"
        }
      ]
    },
    {
      "cell_type": "markdown",
      "metadata": {
        "id": "JGhYinICuVyv"
      },
      "source": [
        "Reshaping\n",
        "its opposite to flattening"
      ]
    },
    {
      "cell_type": "code",
      "metadata": {
        "id": "HHUIeSdhuVyw",
        "colab": {
          "base_uri": "https://localhost:8080/"
        },
        "outputId": "4ad641b6-5a44-4a2b-da8e-201e9702933a"
      },
      "source": [
        "a = np.array([[1,2,3],[4,5,6]])\n",
        "print(a);\n",
        "print(id(a))\n",
        "print(a.shape);"
      ],
      "execution_count": 86,
      "outputs": [
        {
          "output_type": "stream",
          "text": [
            "[[1 2 3]\n",
            " [4 5 6]]\n",
            "140664965070240\n",
            "(2, 3)\n"
          ],
          "name": "stdout"
        }
      ]
    },
    {
      "cell_type": "code",
      "metadata": {
        "id": "zrX0toCSuVyw",
        "colab": {
          "base_uri": "https://localhost:8080/"
        },
        "outputId": "eb10521a-e7f1-46de-aa10-979b780f8a0e"
      },
      "source": [
        "b = a.ravel();\n",
        "print(b)\n",
        "print(id(b))"
      ],
      "execution_count": 87,
      "outputs": [
        {
          "output_type": "stream",
          "text": [
            "[1 2 3 4 5 6]\n",
            "140664965069440\n"
          ],
          "name": "stdout"
        }
      ]
    },
    {
      "cell_type": "code",
      "metadata": {
        "id": "ALv2zVlIuVyx",
        "colab": {
          "base_uri": "https://localhost:8080/"
        },
        "outputId": "9522fd61-3bcb-4b26-f11f-05f1f22caa92"
      },
      "source": [
        "b=b.reshape(2,3);\n",
        "print(b)"
      ],
      "execution_count": 88,
      "outputs": [
        {
          "output_type": "stream",
          "text": [
            "[[1 2 3]\n",
            " [4 5 6]]\n"
          ],
          "name": "stdout"
        }
      ]
    },
    {
      "cell_type": "code",
      "metadata": {
        "id": "RdTm0j65uVyx"
      },
      "source": [
        "#a,b are stored in same mem location"
      ],
      "execution_count": 89,
      "outputs": []
    },
    {
      "cell_type": "code",
      "metadata": {
        "id": "u8QX2N-YuVyx",
        "colab": {
          "base_uri": "https://localhost:8080/"
        },
        "outputId": "a352bc03-48fb-4e9b-9e0d-69274e199f89"
      },
      "source": [
        "b[0,0]=10\n",
        "a"
      ],
      "execution_count": 90,
      "outputs": [
        {
          "output_type": "execute_result",
          "data": {
            "text/plain": [
              "array([[10,  2,  3],\n",
              "       [ 4,  5,  6]])"
            ]
          },
          "metadata": {
            "tags": []
          },
          "execution_count": 90
        }
      ]
    },
    {
      "cell_type": "code",
      "metadata": {
        "id": "BOkGdnzjuVyy"
      },
      "source": [
        ""
      ],
      "execution_count": 90,
      "outputs": []
    },
    {
      "cell_type": "code",
      "metadata": {
        "id": "A7FtX5MsuVyy",
        "colab": {
          "base_uri": "https://localhost:8080/"
        },
        "outputId": "4d1548df-7f65-49a0-e87c-0f30bae83581"
      },
      "source": [
        "a = np.arange(4*3*2).reshape(4,3,2);\n",
        "a.shape"
      ],
      "execution_count": 91,
      "outputs": [
        {
          "output_type": "execute_result",
          "data": {
            "text/plain": [
              "(4, 3, 2)"
            ]
          },
          "metadata": {
            "tags": []
          },
          "execution_count": 91
        }
      ]
    },
    {
      "cell_type": "code",
      "metadata": {
        "id": "cSuduPtduVyy",
        "colab": {
          "base_uri": "https://localhost:8080/"
        },
        "outputId": "9879ba4d-4091-4550-f4b0-a715c47bfa84"
      },
      "source": [
        "print(a);"
      ],
      "execution_count": 92,
      "outputs": [
        {
          "output_type": "stream",
          "text": [
            "[[[ 0  1]\n",
            "  [ 2  3]\n",
            "  [ 4  5]]\n",
            "\n",
            " [[ 6  7]\n",
            "  [ 8  9]\n",
            "  [10 11]]\n",
            "\n",
            " [[12 13]\n",
            "  [14 15]\n",
            "  [16 17]]\n",
            "\n",
            " [[18 19]\n",
            "  [20 21]\n",
            "  [22 23]]]\n"
          ],
          "name": "stdout"
        }
      ]
    },
    {
      "cell_type": "code",
      "metadata": {
        "id": "OOgQ7VKMuVyz",
        "colab": {
          "base_uri": "https://localhost:8080/"
        },
        "outputId": "ae8779d4-dae5-4c7c-e364-9971b0e50b2b"
      },
      "source": [
        "#arg1 -> indicates which matrix\n",
        "#arg2, arg3 are i,j of that matrix\n",
        "print(a[0,1,1])"
      ],
      "execution_count": 93,
      "outputs": [
        {
          "output_type": "stream",
          "text": [
            "3\n"
          ],
          "name": "stdout"
        }
      ]
    },
    {
      "cell_type": "code",
      "metadata": {
        "id": "HZ2qDENhuVyz",
        "colab": {
          "base_uri": "https://localhost:8080/"
        },
        "outputId": "5ece05da-92db-4d42-ca16-479572b137e9"
      },
      "source": [
        "a = np.arange(4);\n",
        "\n",
        "a.resize((8,))\n",
        "\n",
        "print(a)"
      ],
      "execution_count": 94,
      "outputs": [
        {
          "output_type": "stream",
          "text": [
            "[0 1 2 3 0 0 0 0]\n"
          ],
          "name": "stdout"
        }
      ]
    },
    {
      "cell_type": "code",
      "metadata": {
        "id": "Ek9WU36cuVy0",
        "colab": {
          "base_uri": "https://localhost:8080/",
          "height": 218
        },
        "outputId": "bbbba883-27f4-4100-9d4b-1df6d542050f"
      },
      "source": [
        "b = a;\n",
        "a.resize((4,))"
      ],
      "execution_count": 95,
      "outputs": [
        {
          "output_type": "error",
          "ename": "ValueError",
          "evalue": "ignored",
          "traceback": [
            "\u001b[0;31m---------------------------------------------------------------------------\u001b[0m",
            "\u001b[0;31mValueError\u001b[0m                                Traceback (most recent call last)",
            "\u001b[0;32m<ipython-input-95-6e044a82e767>\u001b[0m in \u001b[0;36m<module>\u001b[0;34m()\u001b[0m\n\u001b[1;32m      1\u001b[0m \u001b[0mb\u001b[0m \u001b[0;34m=\u001b[0m \u001b[0ma\u001b[0m\u001b[0;34m;\u001b[0m\u001b[0;34m\u001b[0m\u001b[0;34m\u001b[0m\u001b[0m\n\u001b[0;32m----> 2\u001b[0;31m \u001b[0ma\u001b[0m\u001b[0;34m.\u001b[0m\u001b[0mresize\u001b[0m\u001b[0;34m(\u001b[0m\u001b[0;34m(\u001b[0m\u001b[0;36m4\u001b[0m\u001b[0;34m,\u001b[0m\u001b[0;34m)\u001b[0m\u001b[0;34m)\u001b[0m\u001b[0;34m\u001b[0m\u001b[0;34m\u001b[0m\u001b[0m\n\u001b[0m",
            "\u001b[0;31mValueError\u001b[0m: cannot resize an array that references or is referenced\nby another array in this way.\nUse the np.resize function or refcheck=False"
          ]
        }
      ]
    },
    {
      "cell_type": "code",
      "metadata": {
        "id": "Pup7J6jiuVy0"
      },
      "source": [
        ""
      ],
      "execution_count": null,
      "outputs": []
    },
    {
      "cell_type": "code",
      "metadata": {
        "id": "XsSsWPFVuVy0"
      },
      "source": [
        ""
      ],
      "execution_count": null,
      "outputs": []
    },
    {
      "cell_type": "code",
      "metadata": {
        "id": "qVo1R-JFuVy1"
      },
      "source": [
        ""
      ],
      "execution_count": null,
      "outputs": []
    }
  ]
}