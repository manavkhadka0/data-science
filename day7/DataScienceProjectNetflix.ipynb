{
 "cells": [
  {
   "cell_type": "markdown",
   "metadata": {},
   "source": [
    "# Data analysis"
   ]
  },
  {
   "cell_type": "markdown",
   "metadata": {},
   "source": [
    "The data analysis refers to the process of reteriving, collection, cleaning and then presenting data with the central motive of getting useful information from it. Thus obtained informations can be used for machine learning and artificial intelligence for decision making process, recognize the patterns using visualization, etc. It follows following steps:\n",
    "- **Data requirement specification:** It is the process of marking the goals of the data analysis being done.\n",
    "\n",
    "- **Data collection:** In this step the data that meets the requirements are fetched through different sources.\n",
    "- **Data processing and cleaning:**  In this process the data are organized according to the requirements, such as sorting, keeping different data in orders, etc. The cleaning process refers to removing the empty data, or the data that do not plays a significant role in the analysis. \n",
    "- **Data analysis:** After the data are processed and cleaned, the data analysis starts. Analysis is done through visualization, statistical data modeling, and many more.\n",
    "    "
   ]
  },
  {
   "cell_type": "markdown",
   "metadata": {},
   "source": [
    "## Explanatory data analysis on netflix dataset\n",
    "\n",
    "> Explantory data analysis in short, refers to the data analysis process that usually involves visual based data analysis, this is usually used by data scientists for investigating the data to find possible errors and other basic ideas about the data.\n",
    "\n",
    "### Some questions:\n",
    "- What is the total numbers of movies and shows aired?\n",
    "- What is the average runtime of movies?\n",
    "- Which year has the highest number of shows and movies aired?\n",
    "- List 10 oldest and latest netflix TV shows and movies.\n",
    "\n",
    "### Data source:\n",
    "https://www.kaggle.com/mahmoudtaya/netflixtitles"
   ]
  },
  {
   "cell_type": "markdown",
   "metadata": {
    "id": "JG0PlR8hlvIa"
   },
   "source": [
    "__Importing important libraries__"
   ]
  },
  {
   "cell_type": "code",
   "execution_count": 1,
   "metadata": {
    "colab": {
     "base_uri": "https://localhost:8080/"
    },
    "id": "ecfu-b3llvIj",
    "outputId": "be560360-dbfa-4269-ed98-f0791cac2089"
   },
   "outputs": [],
   "source": [
    "import pandas as pd \n",
    "import seaborn as sns\n",
    "from scipy.stats import norm\n",
    "import matplotlib.pyplot as plt\n",
    "%matplotlib inline"
   ]
  },
  {
   "cell_type": "markdown",
   "metadata": {
    "id": "3YxvviqPAtak"
   },
   "source": [
    "- `seaborn` is a `matplotlib` based library that provides a highlevel statistical data visualization environment.\n",
    "- `scipy` is a pthon library for efficient scientific and numerical calculation.\n",
    "\n"
   ]
  },
  {
   "cell_type": "markdown",
   "metadata": {
    "id": "wyoRoB2IlvIn"
   },
   "source": [
    "\n",
    "__==> Loading the csv file__\n",
    "\n"
   ]
  },
  {
   "cell_type": "code",
   "execution_count": 2,
   "metadata": {
    "colab": {
     "base_uri": "https://localhost:8080/",
     "height": 959
    },
    "id": "M9ktAToLlvIo",
    "outputId": "bee4db93-cf5f-4efe-aa57-621e324dd09e"
   },
   "outputs": [
    {
     "data": {
      "text/html": [
       "<div>\n",
       "<style scoped>\n",
       "    .dataframe tbody tr th:only-of-type {\n",
       "        vertical-align: middle;\n",
       "    }\n",
       "\n",
       "    .dataframe tbody tr th {\n",
       "        vertical-align: top;\n",
       "    }\n",
       "\n",
       "    .dataframe thead th {\n",
       "        text-align: right;\n",
       "    }\n",
       "</style>\n",
       "<table border=\"1\" class=\"dataframe\">\n",
       "  <thead>\n",
       "    <tr style=\"text-align: right;\">\n",
       "      <th></th>\n",
       "      <th>show_id</th>\n",
       "      <th>type</th>\n",
       "      <th>title</th>\n",
       "      <th>director</th>\n",
       "      <th>cast</th>\n",
       "      <th>country</th>\n",
       "      <th>date_added</th>\n",
       "      <th>release_year</th>\n",
       "      <th>rating</th>\n",
       "      <th>duration</th>\n",
       "      <th>listed_in</th>\n",
       "      <th>description</th>\n",
       "    </tr>\n",
       "  </thead>\n",
       "  <tbody>\n",
       "    <tr>\n",
       "      <th>0</th>\n",
       "      <td>81145628</td>\n",
       "      <td>Movie</td>\n",
       "      <td>Norm of the North: King Sized Adventure</td>\n",
       "      <td>Richard Finn, Tim Maltby</td>\n",
       "      <td>Alan Marriott, Andrew Toth, Brian Dobson, Cole...</td>\n",
       "      <td>United States, India, South Korea, China</td>\n",
       "      <td>September 9, 2019</td>\n",
       "      <td>2019</td>\n",
       "      <td>TV-PG</td>\n",
       "      <td>90 min</td>\n",
       "      <td>Children &amp; Family Movies, Comedies</td>\n",
       "      <td>Before planning an awesome wedding for his gra...</td>\n",
       "    </tr>\n",
       "    <tr>\n",
       "      <th>1</th>\n",
       "      <td>80117401</td>\n",
       "      <td>Movie</td>\n",
       "      <td>Jandino: Whatever it Takes</td>\n",
       "      <td>NaN</td>\n",
       "      <td>Jandino Asporaat</td>\n",
       "      <td>United Kingdom</td>\n",
       "      <td>September 9, 2016</td>\n",
       "      <td>2016</td>\n",
       "      <td>TV-MA</td>\n",
       "      <td>94 min</td>\n",
       "      <td>Stand-Up Comedy</td>\n",
       "      <td>Jandino Asporaat riffs on the challenges of ra...</td>\n",
       "    </tr>\n",
       "    <tr>\n",
       "      <th>2</th>\n",
       "      <td>70234439</td>\n",
       "      <td>TV Show</td>\n",
       "      <td>Transformers Prime</td>\n",
       "      <td>NaN</td>\n",
       "      <td>Peter Cullen, Sumalee Montano, Frank Welker, J...</td>\n",
       "      <td>United States</td>\n",
       "      <td>September 8, 2018</td>\n",
       "      <td>2013</td>\n",
       "      <td>TV-Y7-FV</td>\n",
       "      <td>1 Season</td>\n",
       "      <td>Kids' TV</td>\n",
       "      <td>With the help of three human allies, the Autob...</td>\n",
       "    </tr>\n",
       "    <tr>\n",
       "      <th>3</th>\n",
       "      <td>80058654</td>\n",
       "      <td>TV Show</td>\n",
       "      <td>Transformers: Robots in Disguise</td>\n",
       "      <td>NaN</td>\n",
       "      <td>Will Friedle, Darren Criss, Constance Zimmer, ...</td>\n",
       "      <td>United States</td>\n",
       "      <td>September 8, 2018</td>\n",
       "      <td>2016</td>\n",
       "      <td>TV-Y7</td>\n",
       "      <td>1 Season</td>\n",
       "      <td>Kids' TV</td>\n",
       "      <td>When a prison ship crash unleashes hundreds of...</td>\n",
       "    </tr>\n",
       "    <tr>\n",
       "      <th>4</th>\n",
       "      <td>80125979</td>\n",
       "      <td>Movie</td>\n",
       "      <td>#realityhigh</td>\n",
       "      <td>Fernando Lebrija</td>\n",
       "      <td>Nesta Cooper, Kate Walsh, John Michael Higgins...</td>\n",
       "      <td>United States</td>\n",
       "      <td>September 8, 2017</td>\n",
       "      <td>2017</td>\n",
       "      <td>TV-14</td>\n",
       "      <td>99 min</td>\n",
       "      <td>Comedies</td>\n",
       "      <td>When nerdy high schooler Dani finally attracts...</td>\n",
       "    </tr>\n",
       "    <tr>\n",
       "      <th>...</th>\n",
       "      <td>...</td>\n",
       "      <td>...</td>\n",
       "      <td>...</td>\n",
       "      <td>...</td>\n",
       "      <td>...</td>\n",
       "      <td>...</td>\n",
       "      <td>...</td>\n",
       "      <td>...</td>\n",
       "      <td>...</td>\n",
       "      <td>...</td>\n",
       "      <td>...</td>\n",
       "      <td>...</td>\n",
       "    </tr>\n",
       "    <tr>\n",
       "      <th>6229</th>\n",
       "      <td>80000063</td>\n",
       "      <td>TV Show</td>\n",
       "      <td>Red vs. Blue</td>\n",
       "      <td>NaN</td>\n",
       "      <td>Burnie Burns, Jason Saldaña, Gustavo Sorola, G...</td>\n",
       "      <td>United States</td>\n",
       "      <td>NaN</td>\n",
       "      <td>2015</td>\n",
       "      <td>NR</td>\n",
       "      <td>13 Seasons</td>\n",
       "      <td>TV Action &amp; Adventure, TV Comedies, TV Sci-Fi ...</td>\n",
       "      <td>This parody of first-person shooter games, mil...</td>\n",
       "    </tr>\n",
       "    <tr>\n",
       "      <th>6230</th>\n",
       "      <td>70286564</td>\n",
       "      <td>TV Show</td>\n",
       "      <td>Maron</td>\n",
       "      <td>NaN</td>\n",
       "      <td>Marc Maron, Judd Hirsch, Josh Brener, Nora Zeh...</td>\n",
       "      <td>United States</td>\n",
       "      <td>NaN</td>\n",
       "      <td>2016</td>\n",
       "      <td>TV-MA</td>\n",
       "      <td>4 Seasons</td>\n",
       "      <td>TV Comedies</td>\n",
       "      <td>Marc Maron stars as Marc Maron, who interviews...</td>\n",
       "    </tr>\n",
       "    <tr>\n",
       "      <th>6231</th>\n",
       "      <td>80116008</td>\n",
       "      <td>Movie</td>\n",
       "      <td>Little Baby Bum: Nursery Rhyme Friends</td>\n",
       "      <td>NaN</td>\n",
       "      <td>NaN</td>\n",
       "      <td>NaN</td>\n",
       "      <td>NaN</td>\n",
       "      <td>2016</td>\n",
       "      <td>NaN</td>\n",
       "      <td>60 min</td>\n",
       "      <td>Movies</td>\n",
       "      <td>Nursery rhymes and original music for children...</td>\n",
       "    </tr>\n",
       "    <tr>\n",
       "      <th>6232</th>\n",
       "      <td>70281022</td>\n",
       "      <td>TV Show</td>\n",
       "      <td>A Young Doctor's Notebook and Other Stories</td>\n",
       "      <td>NaN</td>\n",
       "      <td>Daniel Radcliffe, Jon Hamm, Adam Godley, Chris...</td>\n",
       "      <td>United Kingdom</td>\n",
       "      <td>NaN</td>\n",
       "      <td>2013</td>\n",
       "      <td>TV-MA</td>\n",
       "      <td>2 Seasons</td>\n",
       "      <td>British TV Shows, TV Comedies, TV Dramas</td>\n",
       "      <td>Set during the Russian Revolution, this comic ...</td>\n",
       "    </tr>\n",
       "    <tr>\n",
       "      <th>6233</th>\n",
       "      <td>70153404</td>\n",
       "      <td>TV Show</td>\n",
       "      <td>Friends</td>\n",
       "      <td>NaN</td>\n",
       "      <td>Jennifer Aniston, Courteney Cox, Lisa Kudrow, ...</td>\n",
       "      <td>United States</td>\n",
       "      <td>NaN</td>\n",
       "      <td>2003</td>\n",
       "      <td>TV-14</td>\n",
       "      <td>10 Seasons</td>\n",
       "      <td>Classic &amp; Cult TV, TV Comedies</td>\n",
       "      <td>This hit sitcom follows the merry misadventure...</td>\n",
       "    </tr>\n",
       "  </tbody>\n",
       "</table>\n",
       "<p>6234 rows × 12 columns</p>\n",
       "</div>"
      ],
      "text/plain": [
       "       show_id     type                                        title  \\\n",
       "0     81145628    Movie      Norm of the North: King Sized Adventure   \n",
       "1     80117401    Movie                   Jandino: Whatever it Takes   \n",
       "2     70234439  TV Show                           Transformers Prime   \n",
       "3     80058654  TV Show             Transformers: Robots in Disguise   \n",
       "4     80125979    Movie                                 #realityhigh   \n",
       "...        ...      ...                                          ...   \n",
       "6229  80000063  TV Show                                 Red vs. Blue   \n",
       "6230  70286564  TV Show                                        Maron   \n",
       "6231  80116008    Movie       Little Baby Bum: Nursery Rhyme Friends   \n",
       "6232  70281022  TV Show  A Young Doctor's Notebook and Other Stories   \n",
       "6233  70153404  TV Show                                      Friends   \n",
       "\n",
       "                      director  \\\n",
       "0     Richard Finn, Tim Maltby   \n",
       "1                          NaN   \n",
       "2                          NaN   \n",
       "3                          NaN   \n",
       "4             Fernando Lebrija   \n",
       "...                        ...   \n",
       "6229                       NaN   \n",
       "6230                       NaN   \n",
       "6231                       NaN   \n",
       "6232                       NaN   \n",
       "6233                       NaN   \n",
       "\n",
       "                                                   cast  \\\n",
       "0     Alan Marriott, Andrew Toth, Brian Dobson, Cole...   \n",
       "1                                      Jandino Asporaat   \n",
       "2     Peter Cullen, Sumalee Montano, Frank Welker, J...   \n",
       "3     Will Friedle, Darren Criss, Constance Zimmer, ...   \n",
       "4     Nesta Cooper, Kate Walsh, John Michael Higgins...   \n",
       "...                                                 ...   \n",
       "6229  Burnie Burns, Jason Saldaña, Gustavo Sorola, G...   \n",
       "6230  Marc Maron, Judd Hirsch, Josh Brener, Nora Zeh...   \n",
       "6231                                                NaN   \n",
       "6232  Daniel Radcliffe, Jon Hamm, Adam Godley, Chris...   \n",
       "6233  Jennifer Aniston, Courteney Cox, Lisa Kudrow, ...   \n",
       "\n",
       "                                       country         date_added  \\\n",
       "0     United States, India, South Korea, China  September 9, 2019   \n",
       "1                               United Kingdom  September 9, 2016   \n",
       "2                                United States  September 8, 2018   \n",
       "3                                United States  September 8, 2018   \n",
       "4                                United States  September 8, 2017   \n",
       "...                                        ...                ...   \n",
       "6229                             United States                NaN   \n",
       "6230                             United States                NaN   \n",
       "6231                                       NaN                NaN   \n",
       "6232                            United Kingdom                NaN   \n",
       "6233                             United States                NaN   \n",
       "\n",
       "      release_year    rating    duration  \\\n",
       "0             2019     TV-PG      90 min   \n",
       "1             2016     TV-MA      94 min   \n",
       "2             2013  TV-Y7-FV    1 Season   \n",
       "3             2016     TV-Y7    1 Season   \n",
       "4             2017     TV-14      99 min   \n",
       "...            ...       ...         ...   \n",
       "6229          2015        NR  13 Seasons   \n",
       "6230          2016     TV-MA   4 Seasons   \n",
       "6231          2016       NaN      60 min   \n",
       "6232          2013     TV-MA   2 Seasons   \n",
       "6233          2003     TV-14  10 Seasons   \n",
       "\n",
       "                                              listed_in  \\\n",
       "0                    Children & Family Movies, Comedies   \n",
       "1                                       Stand-Up Comedy   \n",
       "2                                              Kids' TV   \n",
       "3                                              Kids' TV   \n",
       "4                                              Comedies   \n",
       "...                                                 ...   \n",
       "6229  TV Action & Adventure, TV Comedies, TV Sci-Fi ...   \n",
       "6230                                        TV Comedies   \n",
       "6231                                             Movies   \n",
       "6232           British TV Shows, TV Comedies, TV Dramas   \n",
       "6233                     Classic & Cult TV, TV Comedies   \n",
       "\n",
       "                                            description  \n",
       "0     Before planning an awesome wedding for his gra...  \n",
       "1     Jandino Asporaat riffs on the challenges of ra...  \n",
       "2     With the help of three human allies, the Autob...  \n",
       "3     When a prison ship crash unleashes hundreds of...  \n",
       "4     When nerdy high schooler Dani finally attracts...  \n",
       "...                                                 ...  \n",
       "6229  This parody of first-person shooter games, mil...  \n",
       "6230  Marc Maron stars as Marc Maron, who interviews...  \n",
       "6231  Nursery rhymes and original music for children...  \n",
       "6232  Set during the Russian Revolution, this comic ...  \n",
       "6233  This hit sitcom follows the merry misadventure...  \n",
       "\n",
       "[6234 rows x 12 columns]"
      ]
     },
     "execution_count": 2,
     "metadata": {},
     "output_type": "execute_result"
    }
   ],
   "source": [
    "netflix_dataset = pd.read_csv('./netflix_titles.csv')\n",
    "netflix_dataset"
   ]
  },
  {
   "cell_type": "markdown",
   "metadata": {
    "id": "K5A3C1NClvIp"
   },
   "source": [
    "__==> Getting some basic information__\n",
    "\n",
    "`dataframe.info()` gives a brief summary of the provided `dataframe`.\n",
    "\n",
    "\n",
    "```python\n",
    "DataFrame.info(verbose=None, buf=None, max_cols=None, memory_usage=None, show_counts=None, null_counts=None)\n",
    "```"
   ]
  },
  {
   "cell_type": "code",
   "execution_count": 3,
   "metadata": {
    "colab": {
     "base_uri": "https://localhost:8080/"
    },
    "id": "c-1BUWqzlvIp",
    "outputId": "eb61308e-9840-4207-e2da-366dfea759cf"
   },
   "outputs": [
    {
     "name": "stdout",
     "output_type": "stream",
     "text": [
      "<class 'pandas.core.frame.DataFrame'>\n",
      "RangeIndex: 6234 entries, 0 to 6233\n",
      "Data columns (total 12 columns):\n",
      " #   Column        Non-Null Count  Dtype \n",
      "---  ------        --------------  ----- \n",
      " 0   show_id       6234 non-null   int64 \n",
      " 1   type          6234 non-null   object\n",
      " 2   title         6234 non-null   object\n",
      " 3   director      4265 non-null   object\n",
      " 4   cast          5664 non-null   object\n",
      " 5   country       5758 non-null   object\n",
      " 6   date_added    6223 non-null   object\n",
      " 7   release_year  6234 non-null   int64 \n",
      " 8   rating        6224 non-null   object\n",
      " 9   duration      6234 non-null   object\n",
      " 10  listed_in     6234 non-null   object\n",
      " 11  description   6234 non-null   object\n",
      "dtypes: int64(2), object(10)\n",
      "memory usage: 584.6+ KB\n"
     ]
    }
   ],
   "source": [
    "netflix_dataset.info()"
   ]
  },
  {
   "cell_type": "code",
   "execution_count": 4,
   "metadata": {
    "colab": {
     "base_uri": "https://localhost:8080/"
    },
    "id": "X9VvT-EIlvIq",
    "outputId": "649c680c-ec0f-4a95-a11d-ed075d7f21eb"
   },
   "outputs": [
    {
     "data": {
      "text/plain": [
       "Index(['show_id', 'type', 'title', 'director', 'cast', 'country', 'date_added',\n",
       "       'release_year', 'rating', 'duration', 'listed_in', 'description'],\n",
       "      dtype='object')"
      ]
     },
     "execution_count": 4,
     "metadata": {},
     "output_type": "execute_result"
    }
   ],
   "source": [
    "netflix_dataset.columns"
   ]
  },
  {
   "cell_type": "markdown",
   "metadata": {
    "id": "qyqd01A9lvIq"
   },
   "source": [
    "__==> Dropping some unnecessary columns__\n",
    "\n",
    "```python\n",
    "DataFrame.copy(Deep=True)\n",
    "\n",
    "DataFrame.drop(labels=None, axis=0, index=None, columns=None, level=None, inplace=False, errors='raise')\n",
    "```"
   ]
  },
  {
   "cell_type": "code",
   "execution_count": 5,
   "metadata": {
    "id": "oMBKzzSWlvIq"
   },
   "outputs": [],
   "source": [
    "netflix_dataset_copy = netflix_dataset.copy()\n",
    "netflix_dataset_copy.drop(['show_id', 'description', 'title'], axis=1, inplace=True)"
   ]
  },
  {
   "cell_type": "code",
   "execution_count": 6,
   "metadata": {
    "colab": {
     "base_uri": "https://localhost:8080/",
     "height": 549
    },
    "id": "przN8SMslvIr",
    "outputId": "1b7b3118-8f96-401c-f608-9c052d76c731"
   },
   "outputs": [
    {
     "data": {
      "text/html": [
       "<div>\n",
       "<style scoped>\n",
       "    .dataframe tbody tr th:only-of-type {\n",
       "        vertical-align: middle;\n",
       "    }\n",
       "\n",
       "    .dataframe tbody tr th {\n",
       "        vertical-align: top;\n",
       "    }\n",
       "\n",
       "    .dataframe thead th {\n",
       "        text-align: right;\n",
       "    }\n",
       "</style>\n",
       "<table border=\"1\" class=\"dataframe\">\n",
       "  <thead>\n",
       "    <tr style=\"text-align: right;\">\n",
       "      <th></th>\n",
       "      <th>type</th>\n",
       "      <th>director</th>\n",
       "      <th>cast</th>\n",
       "      <th>country</th>\n",
       "      <th>date_added</th>\n",
       "      <th>release_year</th>\n",
       "      <th>rating</th>\n",
       "      <th>duration</th>\n",
       "      <th>listed_in</th>\n",
       "    </tr>\n",
       "  </thead>\n",
       "  <tbody>\n",
       "    <tr>\n",
       "      <th>0</th>\n",
       "      <td>Movie</td>\n",
       "      <td>Richard Finn, Tim Maltby</td>\n",
       "      <td>Alan Marriott, Andrew Toth, Brian Dobson, Cole...</td>\n",
       "      <td>United States, India, South Korea, China</td>\n",
       "      <td>September 9, 2019</td>\n",
       "      <td>2019</td>\n",
       "      <td>TV-PG</td>\n",
       "      <td>90 min</td>\n",
       "      <td>Children &amp; Family Movies, Comedies</td>\n",
       "    </tr>\n",
       "    <tr>\n",
       "      <th>1</th>\n",
       "      <td>Movie</td>\n",
       "      <td>NaN</td>\n",
       "      <td>Jandino Asporaat</td>\n",
       "      <td>United Kingdom</td>\n",
       "      <td>September 9, 2016</td>\n",
       "      <td>2016</td>\n",
       "      <td>TV-MA</td>\n",
       "      <td>94 min</td>\n",
       "      <td>Stand-Up Comedy</td>\n",
       "    </tr>\n",
       "    <tr>\n",
       "      <th>2</th>\n",
       "      <td>TV Show</td>\n",
       "      <td>NaN</td>\n",
       "      <td>Peter Cullen, Sumalee Montano, Frank Welker, J...</td>\n",
       "      <td>United States</td>\n",
       "      <td>September 8, 2018</td>\n",
       "      <td>2013</td>\n",
       "      <td>TV-Y7-FV</td>\n",
       "      <td>1 Season</td>\n",
       "      <td>Kids' TV</td>\n",
       "    </tr>\n",
       "    <tr>\n",
       "      <th>3</th>\n",
       "      <td>TV Show</td>\n",
       "      <td>NaN</td>\n",
       "      <td>Will Friedle, Darren Criss, Constance Zimmer, ...</td>\n",
       "      <td>United States</td>\n",
       "      <td>September 8, 2018</td>\n",
       "      <td>2016</td>\n",
       "      <td>TV-Y7</td>\n",
       "      <td>1 Season</td>\n",
       "      <td>Kids' TV</td>\n",
       "    </tr>\n",
       "    <tr>\n",
       "      <th>4</th>\n",
       "      <td>Movie</td>\n",
       "      <td>Fernando Lebrija</td>\n",
       "      <td>Nesta Cooper, Kate Walsh, John Michael Higgins...</td>\n",
       "      <td>United States</td>\n",
       "      <td>September 8, 2017</td>\n",
       "      <td>2017</td>\n",
       "      <td>TV-14</td>\n",
       "      <td>99 min</td>\n",
       "      <td>Comedies</td>\n",
       "    </tr>\n",
       "    <tr>\n",
       "      <th>...</th>\n",
       "      <td>...</td>\n",
       "      <td>...</td>\n",
       "      <td>...</td>\n",
       "      <td>...</td>\n",
       "      <td>...</td>\n",
       "      <td>...</td>\n",
       "      <td>...</td>\n",
       "      <td>...</td>\n",
       "      <td>...</td>\n",
       "    </tr>\n",
       "    <tr>\n",
       "      <th>6229</th>\n",
       "      <td>TV Show</td>\n",
       "      <td>NaN</td>\n",
       "      <td>Burnie Burns, Jason Saldaña, Gustavo Sorola, G...</td>\n",
       "      <td>United States</td>\n",
       "      <td>NaN</td>\n",
       "      <td>2015</td>\n",
       "      <td>NR</td>\n",
       "      <td>13 Seasons</td>\n",
       "      <td>TV Action &amp; Adventure, TV Comedies, TV Sci-Fi ...</td>\n",
       "    </tr>\n",
       "    <tr>\n",
       "      <th>6230</th>\n",
       "      <td>TV Show</td>\n",
       "      <td>NaN</td>\n",
       "      <td>Marc Maron, Judd Hirsch, Josh Brener, Nora Zeh...</td>\n",
       "      <td>United States</td>\n",
       "      <td>NaN</td>\n",
       "      <td>2016</td>\n",
       "      <td>TV-MA</td>\n",
       "      <td>4 Seasons</td>\n",
       "      <td>TV Comedies</td>\n",
       "    </tr>\n",
       "    <tr>\n",
       "      <th>6231</th>\n",
       "      <td>Movie</td>\n",
       "      <td>NaN</td>\n",
       "      <td>NaN</td>\n",
       "      <td>NaN</td>\n",
       "      <td>NaN</td>\n",
       "      <td>2016</td>\n",
       "      <td>NaN</td>\n",
       "      <td>60 min</td>\n",
       "      <td>Movies</td>\n",
       "    </tr>\n",
       "    <tr>\n",
       "      <th>6232</th>\n",
       "      <td>TV Show</td>\n",
       "      <td>NaN</td>\n",
       "      <td>Daniel Radcliffe, Jon Hamm, Adam Godley, Chris...</td>\n",
       "      <td>United Kingdom</td>\n",
       "      <td>NaN</td>\n",
       "      <td>2013</td>\n",
       "      <td>TV-MA</td>\n",
       "      <td>2 Seasons</td>\n",
       "      <td>British TV Shows, TV Comedies, TV Dramas</td>\n",
       "    </tr>\n",
       "    <tr>\n",
       "      <th>6233</th>\n",
       "      <td>TV Show</td>\n",
       "      <td>NaN</td>\n",
       "      <td>Jennifer Aniston, Courteney Cox, Lisa Kudrow, ...</td>\n",
       "      <td>United States</td>\n",
       "      <td>NaN</td>\n",
       "      <td>2003</td>\n",
       "      <td>TV-14</td>\n",
       "      <td>10 Seasons</td>\n",
       "      <td>Classic &amp; Cult TV, TV Comedies</td>\n",
       "    </tr>\n",
       "  </tbody>\n",
       "</table>\n",
       "<p>6234 rows × 9 columns</p>\n",
       "</div>"
      ],
      "text/plain": [
       "         type                  director  \\\n",
       "0       Movie  Richard Finn, Tim Maltby   \n",
       "1       Movie                       NaN   \n",
       "2     TV Show                       NaN   \n",
       "3     TV Show                       NaN   \n",
       "4       Movie          Fernando Lebrija   \n",
       "...       ...                       ...   \n",
       "6229  TV Show                       NaN   \n",
       "6230  TV Show                       NaN   \n",
       "6231    Movie                       NaN   \n",
       "6232  TV Show                       NaN   \n",
       "6233  TV Show                       NaN   \n",
       "\n",
       "                                                   cast  \\\n",
       "0     Alan Marriott, Andrew Toth, Brian Dobson, Cole...   \n",
       "1                                      Jandino Asporaat   \n",
       "2     Peter Cullen, Sumalee Montano, Frank Welker, J...   \n",
       "3     Will Friedle, Darren Criss, Constance Zimmer, ...   \n",
       "4     Nesta Cooper, Kate Walsh, John Michael Higgins...   \n",
       "...                                                 ...   \n",
       "6229  Burnie Burns, Jason Saldaña, Gustavo Sorola, G...   \n",
       "6230  Marc Maron, Judd Hirsch, Josh Brener, Nora Zeh...   \n",
       "6231                                                NaN   \n",
       "6232  Daniel Radcliffe, Jon Hamm, Adam Godley, Chris...   \n",
       "6233  Jennifer Aniston, Courteney Cox, Lisa Kudrow, ...   \n",
       "\n",
       "                                       country         date_added  \\\n",
       "0     United States, India, South Korea, China  September 9, 2019   \n",
       "1                               United Kingdom  September 9, 2016   \n",
       "2                                United States  September 8, 2018   \n",
       "3                                United States  September 8, 2018   \n",
       "4                                United States  September 8, 2017   \n",
       "...                                        ...                ...   \n",
       "6229                             United States                NaN   \n",
       "6230                             United States                NaN   \n",
       "6231                                       NaN                NaN   \n",
       "6232                            United Kingdom                NaN   \n",
       "6233                             United States                NaN   \n",
       "\n",
       "      release_year    rating    duration  \\\n",
       "0             2019     TV-PG      90 min   \n",
       "1             2016     TV-MA      94 min   \n",
       "2             2013  TV-Y7-FV    1 Season   \n",
       "3             2016     TV-Y7    1 Season   \n",
       "4             2017     TV-14      99 min   \n",
       "...            ...       ...         ...   \n",
       "6229          2015        NR  13 Seasons   \n",
       "6230          2016     TV-MA   4 Seasons   \n",
       "6231          2016       NaN      60 min   \n",
       "6232          2013     TV-MA   2 Seasons   \n",
       "6233          2003     TV-14  10 Seasons   \n",
       "\n",
       "                                              listed_in  \n",
       "0                    Children & Family Movies, Comedies  \n",
       "1                                       Stand-Up Comedy  \n",
       "2                                              Kids' TV  \n",
       "3                                              Kids' TV  \n",
       "4                                              Comedies  \n",
       "...                                                 ...  \n",
       "6229  TV Action & Adventure, TV Comedies, TV Sci-Fi ...  \n",
       "6230                                        TV Comedies  \n",
       "6231                                             Movies  \n",
       "6232           British TV Shows, TV Comedies, TV Dramas  \n",
       "6233                     Classic & Cult TV, TV Comedies  \n",
       "\n",
       "[6234 rows x 9 columns]"
      ]
     },
     "execution_count": 6,
     "metadata": {},
     "output_type": "execute_result"
    }
   ],
   "source": [
    "netflix_dataset_copy"
   ]
  },
  {
   "cell_type": "markdown",
   "metadata": {
    "id": "pKzeCZMZbpY-"
   },
   "source": [
    "```python\n",
    "DataFrame.nunique(axis=0, dropna=True)\n",
    "```\n",
    "\n",
    "It returs a Series object that counts distinct elements in the `DataFrame` either row-wise or column-wise."
   ]
  },
  {
   "cell_type": "code",
   "execution_count": 7,
   "metadata": {
    "colab": {
     "base_uri": "https://localhost:8080/"
    },
    "id": "neAftTJ-lvIr",
    "outputId": "f2b7a387-846d-4fb8-f983-188f21049fac"
   },
   "outputs": [
    {
     "data": {
      "text/plain": [
       "type               2\n",
       "director        3301\n",
       "cast            5469\n",
       "country          554\n",
       "date_added      1524\n",
       "release_year      72\n",
       "rating            14\n",
       "duration         201\n",
       "listed_in        461\n",
       "dtype: int64"
      ]
     },
     "execution_count": 7,
     "metadata": {},
     "output_type": "execute_result"
    }
   ],
   "source": [
    "netflix_dataset_copy.nunique()"
   ]
  },
  {
   "cell_type": "markdown",
   "metadata": {
    "id": "ojMnz_HGlvIs"
   },
   "source": [
    "# Presenting the data through visualization"
   ]
  },
  {
   "cell_type": "markdown",
   "metadata": {
    "id": "URZm6U88lvIs"
   },
   "source": [
    "__==> Pie chart showing the percentage movies and tv shows airing on netflix__"
   ]
  },
  {
   "cell_type": "code",
   "execution_count": 8,
   "metadata": {
    "colab": {
     "base_uri": "https://localhost:8080/",
     "height": 574
    },
    "id": "Sq7kRSMvlvIt",
    "outputId": "d5b29e1b-8a3f-4c8f-ef34-7828795b1c73",
    "scrolled": false
   },
   "outputs": [
    {
     "data": {
      "image/png": "[encoded data removed]",
      "text/plain": [
       "<Figure size 720x720 with 1 Axes>"
      ]
     },
     "metadata": {},
     "output_type": "display_data"
    }
   ],
   "source": [
    "type_col = netflix_dataset_copy['type']\n",
    "type_count_list = [0, 0]\n",
    "type_labels = ['TV shows', 'Movies']\n",
    "for m_type in type_col:\n",
    "    if m_type == 'TV Show':\n",
    "        type_count_list[0] += 1\n",
    "    else:\n",
    "        type_count_list[1] += 1\n",
    "plt.figure(figsize=(10, 10)) #inches\n",
    "plt.pie(type_count_list, labels=type_labels, explode=(0.05, 0), autopct='%1.1f%%');"
   ]
  },
  {
   "cell_type": "markdown",
   "metadata": {
    "id": "yqlp9Cp4lvIu"
   },
   "source": [
    "The above pie diagram shows us that 31.6% of total shows are tv shows and remaining of them rae movies."
   ]
  },
  {
   "cell_type": "markdown",
   "metadata": {
    "id": "bjZ57Zi5lvIu"
   },
   "source": [
    "__==> Number of movies and tv shows released in netflix from 1995 onward__"
   ]
  },
  {
   "cell_type": "code",
   "execution_count": 9,
   "metadata": {
    "colab": {
     "base_uri": "https://localhost:8080/",
     "height": 320
    },
    "id": "jI42cYAolvIu",
    "outputId": "4313324d-72ad-4ad0-eeeb-0f7e9eb965bf"
   },
   "outputs": [
    {
     "data": {
      "image/png": "[encoded data removed]",
      "text/plain": [
       "<Figure size 1080x360 with 1 Axes>"
      ]
     },
     "metadata": {
      "needs_background": "light"
     },
     "output_type": "display_data"
    }
   ],
   "source": [
    "release_year_type_df = netflix_dataset_copy[['release_year', 'type']].sort_values(by='release_year');\n",
    "release_year_type_df = release_year_type_df[release_year_type_df.release_year >= 1995]\n",
    "\n",
    "plt.rcParams[\"figure.figsize\"] = (15, 5)\n",
    "tabs = pd.crosstab(release_year_type_df['release_year'],release_year_type_df['type'])\n",
    "\n",
    "plt.plot(tabs.index, tabs['Movie'], marker='s', c='b', ls='-');\n",
    "plt.plot(tabs.index, tabs['TV Show'], marker='s', c='r', ls='-');"
   ]
  },
  {
   "cell_type": "markdown",
   "metadata": {
    "id": "Sbhno2_plvIx"
   },
   "source": [
    "The above diagram shows that the number of shows and movies being aired have grown by years"
   ]
  },
  {
   "cell_type": "markdown",
   "metadata": {
    "id": "oSBF0484lvIy"
   },
   "source": [
    "__==> plotting the number of movies in each month__"
   ]
  },
  {
   "cell_type": "code",
   "execution_count": 10,
   "metadata": {
    "colab": {
     "base_uri": "https://localhost:8080/",
     "height": 320
    },
    "id": "gco2mtf5lvIz",
    "outputId": "e2906d7f-d5a5-49d3-b607-b1305d2fbaaa"
   },
   "outputs": [
    {
     "data": {
      "image/png": "[encoded data removed]",
      "text/plain": [
       "<Figure size 1080x360 with 1 Axes>"
      ]
     },
     "metadata": {
      "needs_background": "light"
     },
     "output_type": "display_data"
    }
   ],
   "source": [
    "# Removing the nan values in date_added coulumn\n",
    "date_df = netflix_dataset_copy['date_added'].dropna()\n",
    "\n",
    "#Counting the number movies released in each of the 12 month rather than the full date.\n",
    "date_dict = {\n",
    "    'January'  :0,\n",
    "    'February' :0,\n",
    "    'March'    :0,\n",
    "    'April'    :0,\n",
    "    'May'      :0,\n",
    "    'June'     :0,\n",
    "    'July'     :0, \n",
    "    'August'   :0,\n",
    "    'September':0,\n",
    "    'October'  :0, \n",
    "    'November' :0,\n",
    "    'December' :0\n",
    "}\n",
    "for date in date_df:\n",
    "    i = date.split(\" \")[0]\n",
    "    if i in date_dict.keys():\n",
    "        date_dict[i] += 1\n",
    "        \n",
    "#Bar plot \n",
    "plt.figure(figsize=(15, 5))\n",
    "sns.barplot(x=list(date_dict.keys()), y=list(date_dict.values())); \n"
   ]
  },
  {
   "cell_type": "markdown",
   "metadata": {
    "id": "traQB5vAlvI1"
   },
   "source": [
    "__==> Distribution plot of the duration of movies in minutes__ "
   ]
  },
  {
   "cell_type": "code",
   "execution_count": 29,
   "metadata": {
    "colab": {
     "base_uri": "https://localhost:8080/",
     "height": 374
    },
    "id": "D5yhu1ijlvI2",
    "outputId": "8c5ff336-beb4-4034-b425-1468aa4d198b"
   },
   "outputs": [
    {
     "name": "stderr",
     "output_type": "stream",
     "text": [
      "/home/ndj320/anaconda3/lib/python3.8/site-packages/seaborn/distributions.py:2551: FutureWarning: `distplot` is a deprecated function and will be removed in a future version. Please adapt your code to use either `displot` (a figure-level function with similar flexibility) or `histplot` (an axes-level function for histograms).\n",
      "  warnings.warn(msg, FutureWarning)\n"
     ]
    },
    {
     "data": {
      "image/png": "[encoded data removed]",
      "text/plain": [
       "<Figure size 1080x360 with 1 Axes>"
      ]
     },
     "metadata": {
      "needs_background": "light"
     },
     "output_type": "display_data"
    }
   ],
   "source": [
    "duration_df = netflix_dataset_copy['duration'].dropna()\n",
    "#Duration columns contains series in seasons and movies in minutes\n",
    "duration_list = list()\n",
    "season_list = list()\n",
    "for duration in duration_df:\n",
    "    val, measure = duration.split(' ')\n",
    "    if measure == 'min':\n",
    "        duration_list.append(int(val))\n",
    "    else:\n",
    "        season_list.append(int(val))\n",
    "        \n",
    "plt.figure(figsize=(15, 5))\n",
    "sns.distplot(duration_list, fit=norm);"
   ]
  },
  {
   "cell_type": "markdown",
   "metadata": {
    "id": "GwMP_tnylvI3"
   },
   "source": [
    "__==> Bar plot of number of shows with most seasons__"
   ]
  },
  {
   "cell_type": "code",
   "execution_count": 12,
   "metadata": {
    "colab": {
     "base_uri": "https://localhost:8080/",
     "height": 334
    },
    "id": "tmSDKNrslvI3",
    "outputId": "ab9d55c5-3cf5-4520-a640-e2dcb260fa5d"
   },
   "outputs": [
    {
     "data": {
      "image/png": "[encoded data removed]",
      "text/plain": [
       "<Figure size 1080x360 with 1 Axes>"
      ]
     },
     "metadata": {
      "needs_background": "light"
     },
     "output_type": "display_data"
    }
   ],
   "source": [
    "season_dict = {i:season_list.count(i) for i in season_list}\n",
    "plt.figure(figsize=(15, 5))\n",
    "plt.bar(x=list(season_dict.keys()), height=list(season_dict.values()));\n",
    "plt.xlabel('number of seasons');\n",
    "plt.ylabel('Number of TV shows');"
   ]
  },
  {
   "cell_type": "markdown",
   "metadata": {
    "id": "8iNX6ZsOlvI4"
   },
   "source": [
    "__==> Bar plot of number of shows with their ratings__"
   ]
  },
  {
   "cell_type": "code",
   "execution_count": 13,
   "metadata": {
    "colab": {
     "base_uri": "https://localhost:8080/",
     "height": 368
    },
    "id": "ALTW_1HKlvI4",
    "outputId": "0ff80b0a-578d-4c20-dd92-1ec93996c379"
   },
   "outputs": [
    {
     "data": {
      "image/png": "[encoded data removed]",
      "text/plain": [
       "<Figure size 936x360 with 1 Axes>"
      ]
     },
     "metadata": {
      "needs_background": "light"
     },
     "output_type": "display_data"
    }
   ],
   "source": [
    "release_year_type_df = netflix_dataset_copy[['rating', 'type']].sort_values(by='rating')\n",
    "plt.rcParams[\"figure.figsize\"] = (13, 5)\n",
    "pd.crosstab(release_year_type_df['rating'],release_year_type_df['type']).plot.bar();"
   ]
  },
  {
   "cell_type": "code",
   "execution_count": 14,
   "metadata": {
    "id": "suZshaBClvI5"
   },
   "outputs": [],
   "source": [
    "# This function is used to seperate the dataframe values if one row of a column has more than one. And returns a \n",
    "# dict of their total count in passed dataframe\n",
    "def seperate_the_df_val(df):\n",
    "    unique_dict = dict()\n",
    "    for df_val in df:\n",
    "        df_type = df_val.split(',')\n",
    "        for val_type in df_type:\n",
    "            if val_type not in unique_dict:\n",
    "                unique_dict[val_type] = 0\n",
    "            else:\n",
    "                unique_dict[val_type] += 1\n",
    "    return unique_dict"
   ]
  },
  {
   "cell_type": "markdown",
   "metadata": {
    "id": "UYNQCQiRlvI5"
   },
   "source": [
    "\n",
    "\n",
    "\n",
    "__==> Plotting of number of shows airing in netflix in different genre.__"
   ]
  },
  {
   "cell_type": "code",
   "execution_count": 15,
   "metadata": {
    "colab": {
     "base_uri": "https://localhost:8080/",
     "height": 591
    },
    "id": "RssZu2IrlvI6",
    "outputId": "9553acee-95ce-4850-b4c3-aecbc02bc26e",
    "scrolled": false
   },
   "outputs": [
    {
     "data": {
      "image/png": "[encoded data removed]",
      "text/plain": [
       "<Figure size 1080x720 with 1 Axes>"
      ]
     },
     "metadata": {
      "needs_background": "light"
     },
     "output_type": "display_data"
    }
   ],
   "source": [
    "listed_df = netflix_dataset_copy['listed_in']\n",
    "unique_list_dict = seperate_the_df_val(listed_df)\n",
    "listed_dict = dict()\n",
    "for key, value in unique_list_dict.items():\n",
    "    if value >= 50:\n",
    "        listed_dict[key] = value\n",
    "\n",
    "listed_dict = {k: v for k, v in sorted(listed_dict.items(), key=lambda item: item[1])} \n",
    "\n",
    "plt.figure(figsize=(15, 10))\n",
    "sns.barplot(x=list(listed_dict.values()), y=list(listed_dict.keys()));\n"
   ]
  },
  {
   "cell_type": "markdown",
   "metadata": {
    "id": "Y3_JUR2KlvI7"
   },
   "source": [
    "__==> Bar plot of numbers of shows in different countries__"
   ]
  },
  {
   "cell_type": "code",
   "execution_count": 16,
   "metadata": {
    "colab": {
     "base_uri": "https://localhost:8080/",
     "height": 591
    },
    "id": "YWEmrtr5lvI8",
    "outputId": "000553fe-ac20-4433-8c2d-230ffee9173f",
    "scrolled": false
   },
   "outputs": [
    {
     "data": {
      "image/png": "[encoded data removed]",
      "text/plain": [
       "<Figure size 1080x720 with 1 Axes>"
      ]
     },
     "metadata": {
      "needs_background": "light"
     },
     "output_type": "display_data"
    }
   ],
   "source": [
    "country_df = netflix_dataset_copy['country'].dropna()\n",
    "country_list_dict = seperate_the_df_val(country_df)\n",
    "country_dict = dict()\n",
    "for key, value in country_list_dict.items():\n",
    "    if value >= 50:\n",
    "        country_dict[key] = value\n",
    "\n",
    "country_dict = {k: v for k, v in sorted(country_dict.items(), key=lambda item: item[1])} \n",
    "\n",
    "plt.figure(figsize=(15, 10))\n",
    "sns.barplot(x=list(country_dict.values()), y=list(country_dict.keys()));"
   ]
  },
  {
   "cell_type": "markdown",
   "metadata": {
    "id": "QXM9Lu4TlvI9"
   },
   "source": [
    "#  Answering the questions"
   ]
  },
  {
   "cell_type": "markdown",
   "metadata": {
    "id": "StWnnwUHlvI9"
   },
   "source": [
    "## What is the total numbers of movies and shows aired?"
   ]
  },
  {
   "cell_type": "code",
   "execution_count": 17,
   "metadata": {
    "id": "Rzg-ixzKlvI-",
    "outputId": "ad8e6f9c-fdf3-404d-8bfd-891574fbab61"
   },
   "outputs": [
    {
     "data": {
      "text/plain": [
       "{'Movie': 4264, 'TV Show': 1968}"
      ]
     },
     "execution_count": 17,
     "metadata": {},
     "output_type": "execute_result"
    }
   ],
   "source": [
    "seperate_the_df_val(netflix_dataset_copy['type'])"
   ]
  },
  {
   "cell_type": "markdown",
   "metadata": {
    "id": "UTF6eZKhlvI-"
   },
   "source": [
    "## What is the average runtime of movies?"
   ]
  },
  {
   "cell_type": "code",
   "execution_count": 18,
   "metadata": {
    "id": "saGHZ1U9lvI_",
    "outputId": "4a3a21bc-cc05-47f5-866f-9ec02057d683"
   },
   "outputs": [
    {
     "name": "stdout",
     "output_type": "stream",
     "text": [
      "The average runtime of the movies in netflix is 99\n"
     ]
    }
   ],
   "source": [
    "print(\"The average runtime of the movies in netflix is {}\".format(sum(duration_list)//len(duration_list)))"
   ]
  },
  {
   "cell_type": "markdown",
   "metadata": {
    "id": "qKT0zrQ0lvJA"
   },
   "source": [
    "## Which year has the highest number of shows and movies aired?"
   ]
  },
  {
   "cell_type": "code",
   "execution_count": 19,
   "metadata": {
    "id": "TdmedHC1lvJC"
   },
   "outputs": [],
   "source": [
    "movie_val = tabs['Movie'].max()\n",
    "tv_show_val = tabs['TV Show'].max()"
   ]
  },
  {
   "cell_type": "code",
   "execution_count": 20,
   "metadata": {
    "id": "VR2GmUaIlvJC",
    "outputId": "dfd9baef-f100-40c7-d000-17a4cce91c8b"
   },
   "outputs": [
    {
     "name": "stdout",
     "output_type": "stream",
     "text": [
      "Highest number of movies were released in the year 2017.\n",
      "The hightst number of TV shows were released in the year 2019.\n"
     ]
    }
   ],
   "source": [
    "print('Highest number of movies were released in the year {}.\\nThe hightst number of TV shows were released in the year {}.'\n",
    "      .format(int(tabs[tabs[\"Movie\"] == movie_val].index.values),  int(tabs[tabs[\"TV Show\"] == tv_show_val].index.values)))"
   ]
  },
  {
   "cell_type": "markdown",
   "metadata": {
    "id": "DfonZE9zlvJE"
   },
   "source": [
    "## List 10 oldest and latest netflix TV shows and movies."
   ]
  },
  {
   "cell_type": "markdown",
   "metadata": {
    "id": "ieef6CgylvJF"
   },
   "source": [
    "__==> Oldest TV shows__"
   ]
  },
  {
   "cell_type": "code",
   "execution_count": 21,
   "metadata": {
    "id": "g_lU6kIylvJG",
    "outputId": "5d8dc265-df0e-4ef1-edc1-b1c270473414"
   },
   "outputs": [
    {
     "data": {
      "text/html": [
       "<div>\n",
       "<style scoped>\n",
       "    .dataframe tbody tr th:only-of-type {\n",
       "        vertical-align: middle;\n",
       "    }\n",
       "\n",
       "    .dataframe tbody tr th {\n",
       "        vertical-align: top;\n",
       "    }\n",
       "\n",
       "    .dataframe thead th {\n",
       "        text-align: right;\n",
       "    }\n",
       "</style>\n",
       "<table border=\"1\" class=\"dataframe\">\n",
       "  <thead>\n",
       "    <tr style=\"text-align: right;\">\n",
       "      <th></th>\n",
       "      <th>release_year</th>\n",
       "      <th>title</th>\n",
       "      <th>type</th>\n",
       "    </tr>\n",
       "  </thead>\n",
       "  <tbody>\n",
       "    <tr>\n",
       "      <th>4292</th>\n",
       "      <td>1925</td>\n",
       "      <td>Pioneers: First Women Filmmakers*</td>\n",
       "      <td>TV Show</td>\n",
       "    </tr>\n",
       "    <tr>\n",
       "      <th>4079</th>\n",
       "      <td>1946</td>\n",
       "      <td>Pioneers of African-American Cinema</td>\n",
       "      <td>TV Show</td>\n",
       "    </tr>\n",
       "    <tr>\n",
       "      <th>5981</th>\n",
       "      <td>1963</td>\n",
       "      <td>The Twilight Zone (Original Series)</td>\n",
       "      <td>TV Show</td>\n",
       "    </tr>\n",
       "    <tr>\n",
       "      <th>5980</th>\n",
       "      <td>1967</td>\n",
       "      <td>The Andy Griffith Show</td>\n",
       "      <td>TV Show</td>\n",
       "    </tr>\n",
       "    <tr>\n",
       "      <th>5704</th>\n",
       "      <td>1968</td>\n",
       "      <td>Star Trek</td>\n",
       "      <td>TV Show</td>\n",
       "    </tr>\n",
       "    <tr>\n",
       "      <th>614</th>\n",
       "      <td>1972</td>\n",
       "      <td>Monty Python's Fliegender Zirkus</td>\n",
       "      <td>TV Show</td>\n",
       "    </tr>\n",
       "    <tr>\n",
       "      <th>5669</th>\n",
       "      <td>1974</td>\n",
       "      <td>Monty Python's Flying Circus</td>\n",
       "      <td>TV Show</td>\n",
       "    </tr>\n",
       "    <tr>\n",
       "      <th>5830</th>\n",
       "      <td>1977</td>\n",
       "      <td>Dad's Army</td>\n",
       "      <td>TV Show</td>\n",
       "    </tr>\n",
       "    <tr>\n",
       "      <th>4273</th>\n",
       "      <td>1979</td>\n",
       "      <td>El Chavo</td>\n",
       "      <td>TV Show</td>\n",
       "    </tr>\n",
       "    <tr>\n",
       "      <th>4369</th>\n",
       "      <td>1981</td>\n",
       "      <td>Ninja Hattori</td>\n",
       "      <td>TV Show</td>\n",
       "    </tr>\n",
       "  </tbody>\n",
       "</table>\n",
       "</div>"
      ],
      "text/plain": [
       "      release_year                                title     type\n",
       "4292          1925    Pioneers: First Women Filmmakers*  TV Show\n",
       "4079          1946  Pioneers of African-American Cinema  TV Show\n",
       "5981          1963  The Twilight Zone (Original Series)  TV Show\n",
       "5980          1967               The Andy Griffith Show  TV Show\n",
       "5704          1968                            Star Trek  TV Show\n",
       "614           1972     Monty Python's Fliegender Zirkus  TV Show\n",
       "5669          1974         Monty Python's Flying Circus  TV Show\n",
       "5830          1977                           Dad's Army  TV Show\n",
       "4273          1979                             El Chavo  TV Show\n",
       "4369          1981                        Ninja Hattori  TV Show"
      ]
     },
     "execution_count": 21,
     "metadata": {},
     "output_type": "execute_result"
    }
   ],
   "source": [
    "tv_shows_df = netflix_dataset[['release_year', 'title', 'type']].sort_values(by='release_year')\n",
    "tv_shows_df = tv_shows_df[tv_shows_df['type'] != 'Movie']\n",
    "tv_shows_df.head(10)"
   ]
  },
  {
   "cell_type": "markdown",
   "metadata": {
    "id": "89nAEPDnlvJH"
   },
   "source": [
    "__==> Latest TV shows__"
   ]
  },
  {
   "cell_type": "code",
   "execution_count": 22,
   "metadata": {
    "id": "uq3uYX4slvJH",
    "outputId": "eaf96782-124f-4176-8bcb-a7129769963a"
   },
   "outputs": [
    {
     "data": {
      "text/html": [
       "<div>\n",
       "<style scoped>\n",
       "    .dataframe tbody tr th:only-of-type {\n",
       "        vertical-align: middle;\n",
       "    }\n",
       "\n",
       "    .dataframe tbody tr th {\n",
       "        vertical-align: top;\n",
       "    }\n",
       "\n",
       "    .dataframe thead th {\n",
       "        text-align: right;\n",
       "    }\n",
       "</style>\n",
       "<table border=\"1\" class=\"dataframe\">\n",
       "  <thead>\n",
       "    <tr style=\"text-align: right;\">\n",
       "      <th></th>\n",
       "      <th>release_year</th>\n",
       "      <th>title</th>\n",
       "      <th>type</th>\n",
       "    </tr>\n",
       "  </thead>\n",
       "  <tbody>\n",
       "    <tr>\n",
       "      <th>3464</th>\n",
       "      <td>2020</td>\n",
       "      <td>AJ and the Queen</td>\n",
       "      <td>TV Show</td>\n",
       "    </tr>\n",
       "    <tr>\n",
       "      <th>3379</th>\n",
       "      <td>2020</td>\n",
       "      <td>Killer Inside: The Mind of Aaron Hernandez</td>\n",
       "      <td>TV Show</td>\n",
       "    </tr>\n",
       "    <tr>\n",
       "      <th>1315</th>\n",
       "      <td>2020</td>\n",
       "      <td>Maradona in Mexico</td>\n",
       "      <td>TV Show</td>\n",
       "    </tr>\n",
       "    <tr>\n",
       "      <th>3189</th>\n",
       "      <td>2020</td>\n",
       "      <td>Cheer</td>\n",
       "      <td>TV Show</td>\n",
       "    </tr>\n",
       "    <tr>\n",
       "      <th>3354</th>\n",
       "      <td>2020</td>\n",
       "      <td>Nailed It! Germany</td>\n",
       "      <td>TV Show</td>\n",
       "    </tr>\n",
       "    <tr>\n",
       "      <th>3353</th>\n",
       "      <td>2020</td>\n",
       "      <td>Ares</td>\n",
       "      <td>TV Show</td>\n",
       "    </tr>\n",
       "    <tr>\n",
       "      <th>3541</th>\n",
       "      <td>2020</td>\n",
       "      <td>Messiah</td>\n",
       "      <td>TV Show</td>\n",
       "    </tr>\n",
       "    <tr>\n",
       "      <th>3220</th>\n",
       "      <td>2020</td>\n",
       "      <td>Dracula</td>\n",
       "      <td>TV Show</td>\n",
       "    </tr>\n",
       "    <tr>\n",
       "      <th>3221</th>\n",
       "      <td>2020</td>\n",
       "      <td>Go! Go! Cory Carson</td>\n",
       "      <td>TV Show</td>\n",
       "    </tr>\n",
       "    <tr>\n",
       "      <th>3546</th>\n",
       "      <td>2020</td>\n",
       "      <td>Nisman: The Prosecutor, the President, and the...</td>\n",
       "      <td>TV Show</td>\n",
       "    </tr>\n",
       "  </tbody>\n",
       "</table>\n",
       "</div>"
      ],
      "text/plain": [
       "      release_year                                              title     type\n",
       "3464          2020                                   AJ and the Queen  TV Show\n",
       "3379          2020         Killer Inside: The Mind of Aaron Hernandez  TV Show\n",
       "1315          2020                                 Maradona in Mexico  TV Show\n",
       "3189          2020                                              Cheer  TV Show\n",
       "3354          2020                                 Nailed It! Germany  TV Show\n",
       "3353          2020                                               Ares  TV Show\n",
       "3541          2020                                            Messiah  TV Show\n",
       "3220          2020                                            Dracula  TV Show\n",
       "3221          2020                                Go! Go! Cory Carson  TV Show\n",
       "3546          2020  Nisman: The Prosecutor, the President, and the...  TV Show"
      ]
     },
     "execution_count": 22,
     "metadata": {},
     "output_type": "execute_result"
    }
   ],
   "source": [
    "tv_shows_df[::-1].head(10)"
   ]
  },
  {
   "cell_type": "markdown",
   "metadata": {
    "id": "nmr8S9TplvJH"
   },
   "source": [
    "__==> Oldest movies__"
   ]
  },
  {
   "cell_type": "code",
   "execution_count": 23,
   "metadata": {
    "id": "YoLPgqrYlvJI",
    "outputId": "67ee9909-3ffe-4efa-f165-f905b6bc18b0"
   },
   "outputs": [
    {
     "data": {
      "text/html": [
       "<div>\n",
       "<style scoped>\n",
       "    .dataframe tbody tr th:only-of-type {\n",
       "        vertical-align: middle;\n",
       "    }\n",
       "\n",
       "    .dataframe tbody tr th {\n",
       "        vertical-align: top;\n",
       "    }\n",
       "\n",
       "    .dataframe thead th {\n",
       "        text-align: right;\n",
       "    }\n",
       "</style>\n",
       "<table border=\"1\" class=\"dataframe\">\n",
       "  <thead>\n",
       "    <tr style=\"text-align: right;\">\n",
       "      <th></th>\n",
       "      <th>release_year</th>\n",
       "      <th>title</th>\n",
       "      <th>type</th>\n",
       "    </tr>\n",
       "  </thead>\n",
       "  <tbody>\n",
       "    <tr>\n",
       "      <th>2011</th>\n",
       "      <td>1942</td>\n",
       "      <td>Prelude to War</td>\n",
       "      <td>Movie</td>\n",
       "    </tr>\n",
       "    <tr>\n",
       "      <th>2013</th>\n",
       "      <td>1942</td>\n",
       "      <td>The Battle of Midway</td>\n",
       "      <td>Movie</td>\n",
       "    </tr>\n",
       "    <tr>\n",
       "      <th>2022</th>\n",
       "      <td>1943</td>\n",
       "      <td>Undercover: How to Operate Behind Enemy Lines</td>\n",
       "      <td>Movie</td>\n",
       "    </tr>\n",
       "    <tr>\n",
       "      <th>2023</th>\n",
       "      <td>1943</td>\n",
       "      <td>Why We Fight: The Battle of Russia</td>\n",
       "      <td>Movie</td>\n",
       "    </tr>\n",
       "    <tr>\n",
       "      <th>2026</th>\n",
       "      <td>1943</td>\n",
       "      <td>WWII: Report from the Aleutians</td>\n",
       "      <td>Movie</td>\n",
       "    </tr>\n",
       "    <tr>\n",
       "      <th>2017</th>\n",
       "      <td>1944</td>\n",
       "      <td>The Memphis Belle: A Story of a\\nFlying Fortress</td>\n",
       "      <td>Movie</td>\n",
       "    </tr>\n",
       "    <tr>\n",
       "      <th>2019</th>\n",
       "      <td>1944</td>\n",
       "      <td>The Negro Soldier</td>\n",
       "      <td>Movie</td>\n",
       "    </tr>\n",
       "    <tr>\n",
       "      <th>2021</th>\n",
       "      <td>1944</td>\n",
       "      <td>Tunisian Victory</td>\n",
       "      <td>Movie</td>\n",
       "    </tr>\n",
       "    <tr>\n",
       "      <th>2012</th>\n",
       "      <td>1945</td>\n",
       "      <td>San Pietro</td>\n",
       "      <td>Movie</td>\n",
       "    </tr>\n",
       "    <tr>\n",
       "      <th>2009</th>\n",
       "      <td>1945</td>\n",
       "      <td>Nazi Concentration Camps</td>\n",
       "      <td>Movie</td>\n",
       "    </tr>\n",
       "  </tbody>\n",
       "</table>\n",
       "</div>"
      ],
      "text/plain": [
       "      release_year                                             title   type\n",
       "2011          1942                                    Prelude to War  Movie\n",
       "2013          1942                              The Battle of Midway  Movie\n",
       "2022          1943     Undercover: How to Operate Behind Enemy Lines  Movie\n",
       "2023          1943                Why We Fight: The Battle of Russia  Movie\n",
       "2026          1943                   WWII: Report from the Aleutians  Movie\n",
       "2017          1944  The Memphis Belle: A Story of a\\nFlying Fortress  Movie\n",
       "2019          1944                                 The Negro Soldier  Movie\n",
       "2021          1944                                  Tunisian Victory  Movie\n",
       "2012          1945                                        San Pietro  Movie\n",
       "2009          1945                          Nazi Concentration Camps  Movie"
      ]
     },
     "execution_count": 23,
     "metadata": {},
     "output_type": "execute_result"
    }
   ],
   "source": [
    "movie_shows_df = netflix_dataset[['release_year', 'title', 'type']].sort_values(by='release_year')\n",
    "movie_shows_df = movie_shows_df[movie_shows_df['type'] != 'TV Show']\n",
    "movie_shows_df.head(10)"
   ]
  },
  {
   "cell_type": "markdown",
   "metadata": {
    "id": "4n8nGEedlvJI"
   },
   "source": [
    "__==> Latest TV shows__"
   ]
  },
  {
   "cell_type": "code",
   "execution_count": 24,
   "metadata": {
    "id": "oJzyU1UdlvJI",
    "outputId": "fdf23c9d-22af-4c72-9772-f2e1a6825577"
   },
   "outputs": [
    {
     "data": {
      "text/html": [
       "<div>\n",
       "<style scoped>\n",
       "    .dataframe tbody tr th:only-of-type {\n",
       "        vertical-align: middle;\n",
       "    }\n",
       "\n",
       "    .dataframe tbody tr th {\n",
       "        vertical-align: top;\n",
       "    }\n",
       "\n",
       "    .dataframe thead th {\n",
       "        text-align: right;\n",
       "    }\n",
       "</style>\n",
       "<table border=\"1\" class=\"dataframe\">\n",
       "  <thead>\n",
       "    <tr style=\"text-align: right;\">\n",
       "      <th></th>\n",
       "      <th>release_year</th>\n",
       "      <th>title</th>\n",
       "      <th>type</th>\n",
       "    </tr>\n",
       "  </thead>\n",
       "  <tbody>\n",
       "    <tr>\n",
       "      <th>3180</th>\n",
       "      <td>2020</td>\n",
       "      <td>Bulletproof 2</td>\n",
       "      <td>Movie</td>\n",
       "    </tr>\n",
       "    <tr>\n",
       "      <th>3195</th>\n",
       "      <td>2020</td>\n",
       "      <td>Live Twice, Love Once</td>\n",
       "      <td>Movie</td>\n",
       "    </tr>\n",
       "    <tr>\n",
       "      <th>3352</th>\n",
       "      <td>2020</td>\n",
       "      <td>A Fall from Grace</td>\n",
       "      <td>Movie</td>\n",
       "    </tr>\n",
       "    <tr>\n",
       "      <th>3249</th>\n",
       "      <td>2020</td>\n",
       "      <td>All the Freckles in the World</td>\n",
       "      <td>Movie</td>\n",
       "    </tr>\n",
       "    <tr>\n",
       "      <th>3518</th>\n",
       "      <td>2020</td>\n",
       "      <td>Ghost Stories</td>\n",
       "      <td>Movie</td>\n",
       "    </tr>\n",
       "    <tr>\n",
       "      <th>3427</th>\n",
       "      <td>2020</td>\n",
       "      <td>Leslie Jones: Time Machine</td>\n",
       "      <td>Movie</td>\n",
       "    </tr>\n",
       "    <tr>\n",
       "      <th>4854</th>\n",
       "      <td>2019</td>\n",
       "      <td>Fanatic</td>\n",
       "      <td>Movie</td>\n",
       "    </tr>\n",
       "    <tr>\n",
       "      <th>2113</th>\n",
       "      <td>2019</td>\n",
       "      <td>Alexis Viera: A Story of Surviving</td>\n",
       "      <td>Movie</td>\n",
       "    </tr>\n",
       "    <tr>\n",
       "      <th>4834</th>\n",
       "      <td>2019</td>\n",
       "      <td>Dave Chappelle: Sticks &amp; Stones</td>\n",
       "      <td>Movie</td>\n",
       "    </tr>\n",
       "    <tr>\n",
       "      <th>4825</th>\n",
       "      <td>2019</td>\n",
       "      <td>Travis Scott: Look Mom I Can Fly</td>\n",
       "      <td>Movie</td>\n",
       "    </tr>\n",
       "  </tbody>\n",
       "</table>\n",
       "</div>"
      ],
      "text/plain": [
       "      release_year                               title   type\n",
       "3180          2020                       Bulletproof 2  Movie\n",
       "3195          2020               Live Twice, Love Once  Movie\n",
       "3352          2020                   A Fall from Grace  Movie\n",
       "3249          2020       All the Freckles in the World  Movie\n",
       "3518          2020                       Ghost Stories  Movie\n",
       "3427          2020          Leslie Jones: Time Machine  Movie\n",
       "4854          2019                             Fanatic  Movie\n",
       "2113          2019  Alexis Viera: A Story of Surviving  Movie\n",
       "4834          2019     Dave Chappelle: Sticks & Stones  Movie\n",
       "4825          2019    Travis Scott: Look Mom I Can Fly  Movie"
      ]
     },
     "execution_count": 24,
     "metadata": {},
     "output_type": "execute_result"
    }
   ],
   "source": [
    "movie_shows_df[::-1].head(10)"
   ]
  },
  {
   "cell_type": "markdown",
   "metadata": {
    "id": "tZ6YO-RQlvJJ"
   },
   "source": [
    "# Conclusion"
   ]
  },
  {
   "cell_type": "markdown",
   "metadata": {
    "id": "gmzKH9QHlvJJ"
   },
   "source": [
    "Data visualization is the graphical representation of information and data. By using visual elements like charts, graphs, and maps, data visualization tools provide an accessible way to see and understand trends, and patterns in data.In the world of Big Data, mavhine learning data visualization is an essential tool for analyzing massive amounts of information and make data-driven decisions.\n",
    "\n",
    "Upon completing this project, I found out how important presenting the data visually is. Considering vary large datasets containing tens of thousands of data, visualization gives the basic idea of the dataset. We can recognize what kind of the pattern might be and some what predict the output ourself. Likewise, using this technique, we can take those datas that have distinct impact on our datase and the rest can be removed, dropped or not used. Also, we can deduce the relation between the relationship between any two or more features or input vriables and use those which makes more sense. "
   ]
  },
  {
   "cell_type": "markdown",
   "metadata": {
    "id": "2y-3xU1HlvJJ"
   },
   "source": [
    "From above visualization I came up with following findings:\n",
    "1. The number of shows and movies released are increasing until 2020, which is due to covid 19 pendamic.\n",
    "2. 31% of the shows are tv series and rest are movies\n",
    "3. Most of the shows airing on netfix are from united states\n",
    "4. 67% of TV shows have only one season.\n",
    "5. Most of the movies aired have the rating of 'TV MA'"
   ]
  },
  {
   "cell_type": "code",
   "execution_count": null,
   "metadata": {
    "id": "TzWIGESElvJK"
   },
   "outputs": [],
   "source": []
  }
 ],
 "metadata": {
  "colab": {
   "collapsed_sections": [],
   "name": "DataScienceProjectNetflix.ipynb",
   "provenance": []
  },
  "kernelspec": {
   "display_name": "Python 3 (ipykernel)",
   "language": "python",
   "name": "python3"
  },
  "language_info": {
   "codemirror_mode": {
    "name": "ipython",
    "version": 3
   },
   "file_extension": ".py",
   "mimetype": "text/x-python",
   "name": "python",
   "nbconvert_exporter": "python",
   "pygments_lexer": "ipython3",
   "version": "3.9.2"
  }
 },
 "nbformat": 4,
 "nbformat_minor": 1
}
