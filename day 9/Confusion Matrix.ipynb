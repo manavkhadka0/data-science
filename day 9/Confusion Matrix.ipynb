{
 "cells": [
  {
   "cell_type": "markdown",
   "metadata": {},
   "source": [
    "# Accuracy"
   ]
  },
  {
   "cell_type": "markdown",
   "metadata": {},
   "source": [
    "# Recall"
   ]
  },
  {
   "cell_type": "markdown",
   "metadata": {},
   "source": [
    "# Precision"
   ]
  },
  {
   "cell_type": "markdown",
   "metadata": {},
   "source": [
    "# F1 score\n"
   ]
  },
  {
   "cell_type": "markdown",
   "metadata": {},
   "source": [
    "Through Example"
   ]
  },
  {
   "cell_type": "markdown",
   "metadata": {},
   "source": []
  },
  {
   "cell_type": "markdown",
   "metadata": {},
   "source": []
  },
  {
   "cell_type": "markdown",
   "metadata": {},
   "source": [
    " Evaluating a Classification model is not that simple!"
   ]
  },
  {
   "attachments": {
    "image.png": {
     "image/png": "[encoded data removed]"
    }
   },
   "cell_type": "markdown",
   "metadata": {},
   "source": [
    "# What is a Confusion Matrix?\n",
    "\n",
    "The million dollar question – what, after all, is a confusion matrix?\n",
    "\n",
    "A Confusion matrix is an N x N matrix used for evaluating the performance of a classification model, where N is the number of target classes. The matrix compares the actual target values with those predicted by the machine learning model. This gives us a holistic view of how well our classification model is performing and what kinds of errors it is making.\n",
    "\n",
    "For a binary classification problem, we would have a 2 x 2 matrix as shown below with 4 values:\n",
    "\n",
    "![image.png](attachment:image.png)"
   ]
  },
  {
   "cell_type": "markdown",
   "metadata": {},
   "source": [
    "Understanding True Positive, True Negative, False Positive and False Negative in a Confusion Matrix\n",
    "1. True Positive (TP) \n",
    "\n",
    "    The predicted value matches the actual value\n",
    "    The actual value was positive and the model predicted a positive value\n",
    "    \n",
    "    \n",
    "2. True Negative (TN) \n",
    "\n",
    "    The predicted value matches the actual value\n",
    "    The actual value was negative and the model predicted a negative value\n",
    "    \n",
    "    \n",
    "3. False Positive (FP) – Type 1 error\n",
    "\n",
    "    The predicted value was falsely predicted\n",
    "    The actual value was negative but the model predicted a positive value\n",
    "    Also known as the Type 1 error\n",
    "    \n",
    "    \n",
    "4. False Negative (FN) – Type 2 error\n",
    "\n",
    "    The predicted value was falsely predicted\n",
    "    The actual value was positive but the model predicted a negative value\n",
    "    Also known as the Type 2 error"
   ]
  },
  {
   "attachments": {
    "image.png": {
     "image/png": "[encoded data removed]"
    }
   },
   "cell_type": "markdown",
   "metadata": {},
   "source": [
    "Let me give you an example to better understand this. Suppose we had a classification dataset with 1000 data points.\n",
    "\n",
    "![image.png](attachment:image.png)"
   ]
  },
  {
   "cell_type": "markdown",
   "metadata": {},
   "source": [
    "The different values of the Confusion matrix would be as follows:\n",
    "\n",
    "1. True Positive (TP) = 560; meaning 560 positive class data points were correctly classified by the model\n",
    "2. True Negative (TN) = 330; meaning 330 negative class data points were correctly classified by the model\n",
    "3. False Positive (FP) = 60; meaning 60 negative class data points were incorrectly classified as belonging to the positive class by the model\n",
    "4. False Negative (FN) = 50; meaning 50 positive class data points were incorrectly classified as belonging to the negative class by the model\n",
    "\n",
    "This turned out to be a pretty decent classifier for our dataset considering the relatively larger number of true positive and true negative values."
   ]
  },
  {
   "cell_type": "markdown",
   "metadata": {},
   "source": [
    "# Why “accuracy” is a misleading metric in machine learning"
   ]
  },
  {
   "cell_type": "markdown",
   "metadata": {},
   "source": [
    "## Why Do We Need a Confusion Matrix?\n"
   ]
  },
  {
   "cell_type": "markdown",
   "metadata": {},
   "source": [
    "A fictional example to illustrate my point\n",
    "\n",
    "Imagine a startup developed an AI model that detects apple and banana. The model is 99.9998% accurate. Amazing right!?\n",
    "\n",
    "Not so fast."
   ]
  },
  {
   "cell_type": "markdown",
   "metadata": {},
   "source": [
    "# The math supporting my fictional example"
   ]
  },
  {
   "cell_type": "markdown",
   "metadata": {},
   "source": [
    "Lets look at the data I used to generate that 99.9998%.\n",
    "\n",
    "Fruits in total: 1,000,000\n",
    "\n",
    "Apple: 2\n",
    "\n",
    "Banana : 999,998\n",
    "\n",
    "The model predicted that 0 apple (it always predicts this btw). So was correct 999,998 times and incorrect 2 times.\n",
    "\n",
    "Giving us a model accuracy of… 999,998/1,000,000 = 99.9998%.\n",
    "\n",
    "Great model? Not if it had been really really really important to detect apple.\n"
   ]
  },
  {
   "cell_type": "markdown",
   "metadata": {},
   "source": [
    "# In conclusion"
   ]
  },
  {
   "cell_type": "markdown",
   "metadata": {},
   "source": [
    "Had we looked at accuracy on positive and negative cases separately we would have seen 100% (999,998 / 999,998) accuracy on positive cases(banana detection) and 0% (0 / 2) accuracy on negative cases(apple detection). Highlighting the importance of not taking “accuracy” at face value.\n",
    "\n",
    "The lesson here is especially relevant for any models that claim to predict rare events.\n",
    "\n",
    "The technology in the article at the top could be amazing. But we really don’t know when all we have is “accuracy”. Stay skeptical my friends."
   ]
  },
  {
   "cell_type": "markdown",
   "metadata": {},
   "source": []
  },
  {
   "cell_type": "markdown",
   "metadata": {},
   "source": []
  },
  {
   "cell_type": "markdown",
   "metadata": {},
   "source": []
  },
  {
   "cell_type": "code",
   "execution_count": null,
   "metadata": {},
   "outputs": [],
   "source": []
  }
 ],
 "metadata": {
  "kernelspec": {
   "display_name": "Python 3 (ipykernel)",
   "language": "python",
   "name": "python3"
  },
  "language_info": {
   "codemirror_mode": {
    "name": "ipython",
    "version": 3
   },
   "file_extension": ".py",
   "mimetype": "text/x-python",
   "name": "python",
   "nbconvert_exporter": "python",
   "pygments_lexer": "ipython3",
   "version": "3.9.2"
  }
 },
 "nbformat": 4,
 "nbformat_minor": 4
}
